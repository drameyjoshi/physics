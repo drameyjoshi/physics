{
  "nbformat": 4,
  "nbformat_minor": 0,
  "metadata": {
    "colab": {
      "provenance": [],
      "authorship_tag": "ABX9TyN4+ESXbSQdqB9I7EvDmrMo",
      "include_colab_link": true
    },
    "kernelspec": {
      "name": "python3",
      "display_name": "Python 3"
    },
    "language_info": {
      "name": "python"
    }
  },
  "cells": [
    {
      "cell_type": "markdown",
      "metadata": {
        "id": "view-in-github",
        "colab_type": "text"
      },
      "source": [
        "<a href=\"https://colab.research.google.com/github/drameyjoshi/physics/blob/main/nesm/Maxwell_distribution.ipynb\" target=\"_parent\"><img src=\"https://colab.research.google.com/assets/colab-badge.svg\" alt=\"Open In Colab\"/></a>"
      ]
    },
    {
      "cell_type": "markdown",
      "source": [],
      "metadata": {
        "id": "lyiyDOiN5GSb"
      }
    },
    {
      "cell_type": "markdown",
      "source": [
        "# Moments of the speed in thermal equilibrium\n",
        "\n",
        "The probability density function of a component of velocity of a gas molecule is\n",
        "\\begin{equation}\\tag{1}\n",
        "p(v_x) = \\sqrt{\\frac{m}{2\\pi k_BT}}\\exp\\left(-\\frac{mv_x^2}{2k_BT}\\right).\n",
        "\\end{equation}\n",
        "Therefore the density function of $\\vec{v} = v_x\\hat{e}_x + v_y\\hat{e}_y + v_z\\hat{e}_z$ is\n",
        "\\begin{equation}\\tag{2}\n",
        "p(\\vec{v}) = \\left(\\frac{m}{2\\pi k_BT}\\right)^{3/2}\\exp\\left(-\\frac{mv^2}{2k_BT}\\right).\n",
        "\\end{equation}\n",
        "In order to get the density function for the speed we must integrate over all\n",
        "directions. Thus,\n",
        "\\begin{equation}\\tag{3}\n",
        "p(v) = \\int_0^{2\\pi}d\\phi\\int_0^\\pi \\sin\\theta d\\theta\\; p(\\vec{v})v^2,\n",
        "\\end{equation}\n",
        "or\n",
        "\\begin{equation}\\tag{4}\n",
        "p(v) = 4\\pi v^2 \\left(\\frac{m}{2\\pi k_BT}\\right)^{3/2}\\exp\\left(-\\frac{mv^2}{2k_BT}\\right), \\text{ where } 0 \\le v \\le \\infty.\n",
        "\\end{equation}"
      ],
      "metadata": {
        "id": "-B5BArHi5LHw"
      }
    },
    {
      "cell_type": "markdown",
      "source": [
        "## Average speed\n",
        "\n",
        "The average speed of gas molecules is\n",
        "\\begin{equation}\\tag{5}\n",
        "\\langle v \\rangle = \\int_0^\\infty dv\\; v\\; p(v) = 4\\pi\\left(\\frac{m}{2\\pi k_BT}\\right)^{3/2} \\int_0^\\infty v^3\\exp\\left(-\\frac{mv^2}{2k_BT}\\right) dv.\n",
        "\\end{equation}\n",
        "We use the formula\n",
        "\\begin{equation}\\tag{6}\n",
        "\\int_0^\\infty x^k e^{-ax^2}dx = \\frac{\\Gamma(\\frac{k + 1}{2})}{2a^{(k+1)/2}}\n",
        "\\end{equation}\n",
        "to get\n",
        "\\begin{equation}\\tag{7}\n",
        "\\langle v \\rangle = 4\\pi\\left(\\frac{m}{2\\pi k_BT}\\right)^{3/2} \\frac{\\Gamma(2)}{2}\\left(\\frac{2k_BT}{m}\\right)^2 = \\sqrt{\\frac{8k_BT}{m\\pi}}.\n",
        "\\end{equation}\n",
        "\n",
        "The even moments are\n",
        "\\begin{eqnarray}\n",
        "\\langle v^{2l} \\rangle &=& 4\\pi\\left(\\frac{m}{2\\pi k_BT}\\right)^{3/2} \\int_0^\\infty v^{2l+2}\\exp\\left(-\\frac{mv^2}{2k_BT}\\right) dv \\\\\n",
        " &=& 4\\pi\\left(\\frac{m}{2\\pi k_BT}\\right)^{3/2}\\frac{\\Gamma(l+3/2)}{2}\\left(\\frac{2k_BT}{m}\\right)^{l+3/2} \\\\\n",
        " &=& \\frac{2}{\\sqrt{\\pi}}\\Gamma\\left(l + \\frac{3}{2}\\right)\\left(\\frac{2k_BT}{m}\\right)^{l}. \\tag{8}\n",
        "\\end{eqnarray}\n",
        "Now,\n",
        "\\begin{equation}\\tag{9}\n",
        "\\Gamma\\left(l + \\frac{3}{2}\\right) = \\left(l + \\frac{1}{2}\\right)\\left(l - \\frac{3}{2}\\right) \\cdots \\frac{\\sqrt{\\pi}}{2} = \\frac{(2l+1)!!}{2^{l+1}}\\sqrt{\\pi}\n",
        "= \\frac{(2l+1)!}{2^{2l+1}l!}\\sqrt{\\pi}\n",
        "\\end{equation}\n",
        "so that equation (8) becomes\n",
        "\\begin{equation}\\tag{10}\n",
        "\\langle v^{2l} \\rangle = \\frac{(2l+1)!}{2^l l!}\\left(\\frac{k_BT}{m}\\right)^{l}. \n",
        "\\end{equation}\n",
        "The odd moments are\n",
        "\\begin{eqnarray}\n",
        "\\langle v^{2l+1} \\rangle &=& 4\\pi\\left(\\frac{m}{2\\pi k_BT}\\right)^{3/2} \\int_0^\\infty v^{2l+3}\\exp\\left(-\\frac{mv^2}{2k_BT}\\right) dv \\\\\n",
        " &=& 4\\pi\\left(\\frac{m}{2\\pi k_BT}\\right)^{3/2}\\frac{\\Gamma(l+2)}{2}\\left(\\frac{2k_BT}{m}\\right)^{l+2} \\\\\n",
        " &=& \\frac{2}{\\sqrt{\\pi}}\\;(l + 1)!\\;\\left(\\frac{2k_BT}{m}\\right)^{l+1/2} \\\\\n",
        " &=& \\frac{2^{l + 3/2}(l + 1)!}{\\sqrt{\\pi}}\\left(\\frac{k_BT}{m}\\right)^{l + 1/2}. \\tag{9}\n",
        "\\end{eqnarray}"
      ],
      "metadata": {
        "id": "9qKw0DRH8RnS"
      }
    },
    {
      "cell_type": "markdown",
      "source": [],
      "metadata": {
        "id": "NgORmOo0FuKO"
      }
    }
  ]
}