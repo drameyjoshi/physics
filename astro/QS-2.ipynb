{
 "cells": [
  {
   "cell_type": "raw",
   "id": "2f4c9de3-c8f5-41ea-8636-fbe8242a1674",
   "metadata": {},
   "source": [
    "---\n",
    "title: White Dwarfs\n",
    "author: Amey Joshi\n",
    "format: \n",
    "    revealjs:\n",
    "        theme: [default, custom.scss]\n",
    "        scrollable: true\n",
    "        smaller: true\n",
    "        slide-number: true\n",
    "code-fold: true\n",
    "execute:\n",
    "    echo: true\n",
    "---"
   ]
  },
  {
   "cell_type": "markdown",
   "id": "78c4570a-80e2-445a-997d-18e4c61603d3",
   "metadata": {},
   "source": [
    "## Eddington's paradox [1 / 5]\n",
    "\n",
    "- We estimate the electrostatic and thermal energies of a white dwarf.\n",
    "- Assume that the star is fully ionised. If it is made up of hydrogen atoms then full ionisation will result in $2$ ions. \n",
    "- The electrostatic energy of a crystal of $2N$ ions, each with charge $e$ at their equilibrium separation $R$, in cgs units, is $$ U = -\\frac{N\\alpha e^2}{R}, $$ where the $\\alpha$ is a constant (called Madelung constant). $\\alpha \\approx 1$ for most ionic crystal. It is a small constant times the nearest neighbour distance.  \n",
    "- Density of a white dwarf $\\approx 10^6$ times that of terrestrial matter. Therefore, inter-ionic distance and consequently the Madelung constant for a white dwarf are $1/100$ times that of terrestrial matter."
   ]
  },
  {
   "cell_type": "markdown",
   "id": "87032799-98ee-44d3-9e83-089ecc1fcf6a",
   "metadata": {},
   "source": [
    "## Eddington's paradox [2 / 5]\n",
    "\n",
    "- If $\\rho$ is the mass density, $V$ the volume and $N$ the number of ions then $$\\rho = (Nm_p)/V,$$ where $m_p$ is the mass of a proton.\n",
    "- The electrostatic energy per unit volume is $$u = \\frac{U}{V} = -\\frac{N}{V}\\alpha\\frac{e^2}{R} = -\\frac{\\rho}{m_p}\\alpha\\frac{e^2}{R}.$$"
   ]
  },
  {
   "cell_type": "markdown",
   "id": "cd008a23-34d0-4008-88be-ec25e5511241",
   "metadata": {},
   "source": [
    "## Eddington's paradox [3 / 5]\n",
    "\n",
    "- If $R$ is the inter-ionic distance and if we assume that in a sphere of radius $R$ around a proton there is only one electron then then $$\\rho \\frac{4\\pi}{3}R^3 = m_p$$ so that $$u = -\\frac{\\rho\\alpha e^2}{m_p}\\left(\\frac{4\\pi\\rho}{3m_p}\\right)^{1/3} = -\\left[\\frac{\\alpha e^2}{m_p^{4/3}}\\left(\\frac{4\\pi}{3}\\right)^3\\right]\\rho^{4/3}.$$\n",
    "- We will evaluate the constant in the square bracket."
   ]
  },
  {
   "cell_type": "code",
   "execution_count": 12,
   "id": "46242e14-96e9-4627-b909-052255e9d0c0",
   "metadata": {},
   "outputs": [
    {
     "name": "stdout",
     "output_type": "stream",
     "text": [
      "The constant in u is 1.870039e+11\n"
     ]
    }
   ],
   "source": [
    "import numpy as np\n",
    "\n",
    "alpha = 0.01 # Approximate Madelung constant.\n",
    "e = 4.8e-10 # Charge on an electon in esu.\n",
    "m_p = 1.673e-24 # Mass of proton in g.\n",
    "\n",
    "const1 = alpha * e**2 * (4*np.pi/3)**(1/3) * m_p**(-4/3)\n",
    "print(f\"The constant in u is {const1:e}\")"
   ]
  },
  {
   "cell_type": "markdown",
   "id": "41dec2ce-3629-4d45-b78b-3efcb8abce50",
   "metadata": {},
   "source": [
    "- Thus the electrostatic energy per unit volume is $u \\approx 1.87 \\times 10^{11} \\rho^{4/3}$.\n",
    "\n",
    "## Eddington's paradox [4 / 5]\n",
    "\n",
    "- Classical thermal energy of a particle at temperature $T$ is $3kT/2$. If there are $N$ such particles then the total energy is $N \\times (3kT)/2$ and the energy per unit volume is $$\\frac{E}{V} = \\frac{N}{V}\\frac{3KT}{2}$$.\n",
    "- The mass density is $\\rho = \\mu m_H N/V$, where $\\mu \\approx 2$ is the \"mean molecular weight\", $m_H$ is the mass of a hydrogen atom.  \n",
    "- Thus, $$\\kappa = \\frac{3}{2}\\frac{k}{m_H} \\frac{\\rho T}{\\mu} = \\text{const.} \\times \\frac{\\rho T}{\\mu}$$.\n",
    "- We will calculate the constant in this expression."
   ]
  },
  {
   "cell_type": "code",
   "execution_count": 14,
   "id": "97ec2a0f-afca-4466-831d-fc0389d7ab7b",
   "metadata": {},
   "outputs": [
    {
     "name": "stdout",
     "output_type": "stream",
     "text": [
      "The constant in $\\kappa$ is 1.236626e+08\n",
      "The ratio of the two constants is  6.612832e-04\n"
     ]
    }
   ],
   "source": [
    "m_e = 9.1e-28 # mass of electron in g.\n",
    "k = 1.38e-16 # Boltzmann constant in erg/K\n",
    "\n",
    "const2 = 3/2 * k * 1/(m_p + m_e)\n",
    "print(r\"The constant in $\\kappa$ is \" + f\"{const2:e}\")\n",
    "print(f\"The ratio of the two constants is {const2/const1: e}\")"
   ]
  },
  {
   "cell_type": "markdown",
   "id": "24629e00-c9e8-41dd-a016-6018179012b6",
   "metadata": {},
   "source": [
    "## Eddington's paradox [5 / 5]\n",
    "\n",
    "- Matter in white dwarf will cool to be a neutral fluid if $\\kappa > u$ or $$\\rho < \\left(6.612 \\times 10^{-4} \\frac{T}{\\mu}\\right)^3$$.\n",
    "- The temperature of a white dwarf like Sirius B is approximately $10000$ K and $\\mu \\approx 2$ for most stars in which Hydrogen is not the most dominant component. Therefore the constant on the right hand side is"
   ]
  },
  {
   "cell_type": "code",
   "execution_count": 16,
   "id": "35c726d9-e67d-47cc-9226-167d7595f4b3",
   "metadata": {},
   "outputs": [
    {
     "name": "stdout",
     "output_type": "stream",
     "text": [
      "RHS of the inequality is 3.614702e+01\n"
     ]
    }
   ],
   "source": [
    "rhs = (const2/const1 * 10000/2)**3\n",
    "print(f\"RHS of the inequality is {rhs:e}\")"
   ]
  },
  {
   "cell_type": "markdown",
   "id": "14144561-fec9-40d2-b335-dae076018c6f",
   "metadata": {},
   "source": [
    "- This inequality is definitely not valid for white dwarves.\n",
    "- This is the physics of Eddington's paradox."
   ]
  },
  {
   "cell_type": "markdown",
   "id": "e65b3172-60ba-4b82-adbe-cf831806d9c2",
   "metadata": {},
   "source": [
    "## A brief recap of stellar structure\n",
    "\n",
    "- Stars are fuelled by nuclear reactions in which lighter nuclei fuse to form heavier ones.\n",
    "  - Coulomb barrier rises as square of the atomic number (charge). It takes an increasing amount of energy to fuse heavier nuclei.\n",
    "- The core starts contracting when energy production stops.\n",
    "  - The simplest picture of a star is a body in the hydrostatic equilibrium - pressure resists gravitational contraction.\n",
    "- Whether or not nuclei fuse depends on the temperature of the gas.\n",
    "  - Classical gases ($P = nkT$) get hotter as the pressure increases.\n",
    "  - Quantum gases ($P = Cn^{4/3}$) can be squeezed without heating.\n",
    "- How stars live their lives depends on whether their core remains classical or becomes degenerate.\n",
    "\n",
    "## Statistical mechanics of Fermions\n",
    "- Fermions are particles with half-integer spins. They have an anti-symmetric wave-function and obey Pauli exclusion principle.\n",
    "  - There can be at most two spin $1/2$ of opposite spins in an energy state.\n",
    "- Fermi energy, $E_F$, of a collection of fermions is the difference between highest occupied state and the lowest energy state at $0$ K. \n",
    "    - A collection of fermions behaves like a classical gas if $kT \\gg E_F$ and as a quantum gas if $kT \\le E_F$.\n",
    "- For identical, independent, non-relativistic, spin 1/2 particles,\n",
    "$$\n",
    "E_F = \\frac{\\hslash^2}{2m}(3\\pi^2 n)^{2/3},\n",
    "$$\n",
    "where $m$ is the mass of the particle and $n$ is the number density. The degeneracy pressure is\n",
    "$$\n",
    "P_d = \\frac{(3\\pi^2)^{2/3}\\hslash^2}{5m}n^{5/3}.\n",
    "$$\n",
    "- For the same $n$, Fermi-energy of nucleons is less than that of electrons. However, degeneracy pressure of electrons is much higher.\n",
    "- A white dwarf is supported by electron degeneracy pressure.\n",
    "\n",
    "## Birth of a white dwarf\n",
    "\n",
    "- Stars produce He from H in the first stage of their evolution. It takes a lot more energy to fuse He. Since it is not yet available, a core of inert He is formed in the star.\n",
    "- The size of the core keeps increasing as the star ages. As the core cannot produce energy, it collapses under its own gravity. When the core collapses, the envelope expands creating a red giant.\n",
    "- As the core contracts, the number density $n$ increases and with it $E_F$. Eventually $E_F$ will surpass $kT$ and the core will become degenerate. A degenerate core can contract without heating.\n",
    "- For stars of masses around and above $M_\\odot$, the periphery of the core continues to supply heat to the core and triggers He fusion. The core starts expanding as it generates heat leading to a contraction of the envelope.\n",
    "- He fusion leads to formation of an inert C and O core. Once again the core contracts, the envelope expands and creates a red super-giant. It is pulsationally unstable and results in the ejection of planetary nebula.\n",
    "- The degenerate C and O core if the white dwarf.\n",
    "\n",
    "## Physical properties of a white dwarf\n",
    "\n",
    "- When the stellar material is a classical gas, the electrons tend to have lower momenta than the nucleons. As a result, they are squeezed in a smaller region of the phase space than the nucleons. The electron gas thus becomes degenerate sooner than the nucleon gas.\n",
    "    - In a C and O core the number of electrons exceeds the number of nucleons. Therefore, the Fermi energy of the electron gas is less than that of nucleon gas. That is another way to understand why white dwarves are supported by electron degeneracy pressure.\n",
    "- Degeneracy pressure can be understood as a consequence of large momentum of fermions on higher energy states even at absolute zero.\n",
    "- Photons cannot be effectively scattered by degenerate electrons. This is due to the non-availability of vacant states in degenerate matter. As a result, white dwarves have very low opacity and the radiative heat transfer is low.\n",
    "- A large density of electrons makes the core of a white dwarf an excellent thermal and electrical conductor. It is often considered to be isothermal.\n",
    "\n",
    "## Physical properties of a white dwarf\n",
    "\n",
    "- When a white dwarf is formed, its core is at a temperature of $O(10^7)$K. If the mass is of the order of $1\\;M_\\odot$ then the total thermal energy is of $O(10^{40})$ J. The details of this rough calculations are:\n",
    "    - Mass of C$^{12}$ nucleus is $\\approx 2 \\times 10^{-26}$ kg.\n",
    "    - One solar mass is $\\approx 2 \\times 10^{30}$ kg. Therefore, there are $\\approx 10^{56}$ C$^{12}$ nuclei.\n",
    "    - The nucleons continue to be a classical gas with a heat capacity of $3/2\\;k$ per nucleus. This gives a total heat capacity of the order of $10^{33}$ J/K. (Recall that $k = 1.38 \\times 10^{-23}$ J/K).\n",
    "    - At a temperature of $10^7$ K, the heat capacity gives the heat content to be $10^{40}$J.\n",
    "- The heat in the core is trapped in the star by a non-degenerate, insulating shell of the star. The shell loses heat via radiative diffusion, like a black body.\n",
    "- The slow rate of diffusion results in white dwarves shining for a very long period.\n",
    "\n",
    "## Physical properties of a white dwarf\n",
    "\n",
    "- As the core cools, it is thought to crystallise. It creates body-centred cubic crystals like many metals.\n",
    "- Formation of crystals traps additional heat. The heat capacity per ion doubles to $3k_B$. It also results in the release of \"heat of crystallisation\", further elongating the period over which the star shines.\n",
    "- When the white dwarf was born, its core had a temperature of $10^7$ K and the envelope was at $10^5$K. It takes billions of years for the envelope to cool down to $10^4$K. As a result, for much of their existence, the white dwarves appear white or even bluish white.\n",
    "- It will take more than the age of the universe for white dwarves to cool to the temperature of the cosmic microwave background.\n",
    "- The intense gravitational field of the white dwarf results in the heavy nuclei populating the centre and the envelope consisting of H and He. This is why the spectra of white dwarves show prominent H lines.\n",
    "- Chandrasekhar proved in the 1930s that if the mass of the star exceeds a certain limit, the electron degeneracy pressure cannot prevent the collapse of the core. This limit is the maximum mass of a white dwarf. "
   ]
  }
 ],
 "metadata": {
  "kernelspec": {
   "display_name": "Python 3 (ipykernel)",
   "language": "python",
   "name": "python3"
  },
  "language_info": {
   "codemirror_mode": {
    "name": "ipython",
    "version": 3
   },
   "file_extension": ".py",
   "mimetype": "text/x-python",
   "name": "python",
   "nbconvert_exporter": "python",
   "pygments_lexer": "ipython3",
   "version": "3.10.12"
  }
 },
 "nbformat": 4,
 "nbformat_minor": 5
}
