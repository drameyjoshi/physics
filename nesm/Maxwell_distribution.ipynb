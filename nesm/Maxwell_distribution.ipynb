{
  "nbformat": 4,
  "nbformat_minor": 0,
  "metadata": {
    "colab": {
      "provenance": [],
      "toc_visible": true,
      "authorship_tag": "ABX9TyMsozoXeju2NEYIGCJma/++",
      "include_colab_link": true
    },
    "kernelspec": {
      "name": "python3",
      "display_name": "Python 3"
    },
    "language_info": {
      "name": "python"
    }
  },
  "cells": [
    {
      "cell_type": "markdown",
      "metadata": {
        "id": "view-in-github",
        "colab_type": "text"
      },
      "source": [
        "<a href=\"https://colab.research.google.com/github/drameyjoshi/physics/blob/main/nesm/Maxwell_distribution.ipynb\" target=\"_parent\"><img src=\"https://colab.research.google.com/assets/colab-badge.svg\" alt=\"Open In Colab\"/></a>"
      ]
    },
    {
      "cell_type": "markdown",
      "source": [
        "Solutions for chapter 2 of V. Balakrishnan's book *Nonequilibrium Statistical Mechanics*."
      ],
      "metadata": {
        "id": "lyiyDOiN5GSb"
      }
    },
    {
      "cell_type": "markdown",
      "source": [
        "# Moments of the speed in thermal equilibrium\n",
        "\n",
        "The probability density function of a component of velocity of a gas molecule is\n",
        "\\begin{equation}\\tag{1}\n",
        "f(v_x) = \\sqrt{\\frac{m}{2\\pi k_BT}}\\exp\\left(-\\frac{mv_x^2}{2k_BT}\\right).\n",
        "\\end{equation}\n",
        "The probability that the $x$ component of the velocity is between $v_x$ and $v_x + dx_x$ is\n",
        "\\begin{equation}\\tag{1a}\n",
        "p(v_x) = f(v_x)dv_x.\n",
        "\\end{equation}\n",
        "The probability that the velocity $\\vec{v}$ is in the small region $d\\vec{v}$\n",
        "around $\\vec{v} = v_x\\hat{e}_x + v_y\\hat{e}_y + v_z\\hat{e}_z$ is\n",
        "\\begin{equation}\\tag{1b}\n",
        "p(\\vec{v}) = f(v_x)f(v_y)f(v_z)dv_xdv_ydv_z.\n",
        "\\end{equation}\n",
        "Therefore the density function of \n",
        "\\begin{equation}\\tag{2}\n",
        "p(\\vec{v}) = \\left(\\frac{m}{2\\pi k_BT}\\right)^{3/2}\\exp\\left(-\\frac{mv^2}{2k_BT}\\right) v^2\\sin\\theta d\\theta d\\phi dv.\n",
        "\\end{equation}\n",
        "In order to get the density function for the speed we must integrate over all\n",
        "directions. Thus,\n",
        "\\begin{equation}\\tag{3}\n",
        "f(v) = \\int_0^{2\\pi}d\\phi\\int_0^\\pi \\sin\\theta d\\theta\\; p(\\vec{v})v^2,\n",
        "\\end{equation}\n",
        "or\n",
        "\\begin{equation}\\tag{4}\n",
        "f(v) = 4\\pi v^2 \\left(\\frac{m}{2\\pi k_BT}\\right)^{3/2}\\exp\\left(-\\frac{mv^2}{2k_BT}\\right), \\text{ where } 0 \\le v \\le \\infty.\n",
        "\\end{equation}"
      ],
      "metadata": {
        "id": "-B5BArHi5LHw"
      }
    },
    {
      "cell_type": "markdown",
      "source": [
        "## Average speed\n",
        "\n",
        "The average speed of gas molecules is\n",
        "\\begin{equation}\\tag{5}\n",
        "\\langle v \\rangle = \\int_0^\\infty dv\\; v\\; f(v) = 4\\pi\\left(\\frac{m}{2\\pi k_BT}\\right)^{3/2} \\int_0^\\infty v^3\\exp\\left(-\\frac{mv^2}{2k_BT}\\right) dv.\n",
        "\\end{equation}\n",
        "We use the formula\n",
        "\\begin{equation}\\tag{6}\n",
        "\\int_0^\\infty x^k e^{-ax^2}dx = \\frac{\\Gamma(\\frac{k + 1}{2})}{2a^{(k+1)/2}}\n",
        "\\end{equation}\n",
        "to get\n",
        "\\begin{equation}\\tag{7}\n",
        "\\langle v \\rangle = 4\\pi\\left(\\frac{m}{2\\pi k_BT}\\right)^{3/2} \\frac{\\Gamma(2)}{2}\\left(\\frac{2k_BT}{m}\\right)^2 = \\sqrt{\\frac{8k_BT}{m\\pi}}.\n",
        "\\end{equation}\n",
        "\n",
        "The even moments are\n",
        "\\begin{eqnarray}\n",
        "\\langle v^{2l} \\rangle &=& 4\\pi\\left(\\frac{m}{2\\pi k_BT}\\right)^{3/2} \\int_0^\\infty v^{2l+2}\\exp\\left(-\\frac{mv^2}{2k_BT}\\right) dv \\\\\n",
        " &=& 4\\pi\\left(\\frac{m}{2\\pi k_BT}\\right)^{3/2}\\frac{\\Gamma(l+3/2)}{2}\\left(\\frac{2k_BT}{m}\\right)^{l+3/2} \\\\\n",
        " &=& \\frac{2}{\\sqrt{\\pi}}\\Gamma\\left(l + \\frac{3}{2}\\right)\\left(\\frac{2k_BT}{m}\\right)^{l}. \\tag{8}\n",
        "\\end{eqnarray}\n",
        "Now,\n",
        "\\begin{equation}\\tag{9}\n",
        "\\Gamma\\left(l + \\frac{3}{2}\\right) = \\left(l + \\frac{1}{2}\\right)\\left(l - \\frac{3}{2}\\right) \\cdots \\frac{\\sqrt{\\pi}}{2} = \\frac{(2l+1)!!}{2^{l+1}}\\sqrt{\\pi}\n",
        "= \\frac{(2l+1)!}{2^{2l+1}l!}\\sqrt{\\pi}\n",
        "\\end{equation}\n",
        "so that equation (8) becomes\n",
        "\\begin{equation}\\tag{10}\n",
        "\\langle v^{2l} \\rangle = \\frac{(2l+1)!}{2^l l!}\\left(\\frac{k_BT}{m}\\right)^{l}. \n",
        "\\end{equation}\n",
        "The odd moments are\n",
        "\\begin{eqnarray}\n",
        "\\langle v^{2l+1} \\rangle &=& 4\\pi\\left(\\frac{m}{2\\pi k_BT}\\right)^{3/2} \\int_0^\\infty v^{2l+3}\\exp\\left(-\\frac{mv^2}{2k_BT}\\right) dv \\\\\n",
        " &=& 4\\pi\\left(\\frac{m}{2\\pi k_BT}\\right)^{3/2}\\frac{\\Gamma(l+2)}{2}\\left(\\frac{2k_BT}{m}\\right)^{l+2} \\\\\n",
        " &=& \\frac{2}{\\sqrt{\\pi}}\\;(l + 1)!\\;\\left(\\frac{2k_BT}{m}\\right)^{l+1/2} \\\\\n",
        " &=& \\frac{2^{l + 3/2}(l + 1)!}{\\sqrt{\\pi}}\\left(\\frac{k_BT}{m}\\right)^{l + 1/2}. \\tag{11}\n",
        "\\end{eqnarray}"
      ],
      "metadata": {
        "id": "9qKw0DRH8RnS"
      }
    },
    {
      "cell_type": "markdown",
      "source": [
        "Equations (10) and (11) indicate that for a fixed temperature, the moments rise extremely fast with order and for a fixed order they rise as $O(T^{l+1})$. One can readily derive a useful formula using the Cauchy-Schwarz inequality,\n",
        "\\begin{equation}\\tag{12}\n",
        "\\langle v^k \\rangle\\langle v^{-k} \\rangle \\ge \\langle v^k v^{-k}\\rangle = \\langle 1 \\rangle = 1\n",
        "\\end{equation}\n",
        "so that \n",
        "\\begin{equation}\\tag{13}\n",
        "\\langle v^{-k} \\rangle \\ge \\langle v^k \\rangle^{-1}\n",
        "\\end{equation}"
      ],
      "metadata": {
        "id": "NgORmOo0FuKO"
      }
    },
    {
      "cell_type": "markdown",
      "source": [
        "# Energy distribution of the tagged particle\n",
        "\n",
        "The total energy $E$ of a gas molecule is just its kinetic energy. The relation between $E$ and $u$ is \n",
        "\\begin{equation}\\tag{14}\n",
        "E = \\frac{mv^2}{2}\n",
        "\\end{equation}\n",
        "so that \n",
        "\\begin{equation}\\tag{15}\n",
        "dE = mvdv.\n",
        "\\end{equation}\n",
        "The probability that a molecule has speed between $v$ and $v + dv$ is \n",
        "\\begin{equation}\\tag{16}\n",
        "p(v) = f(v)dv = \\left(\\frac{m}{2\\pi k_BT}\\right)^{3/2} 4\\pi v^2 \\exp\\left(-\\frac{mv^2}{2k_BT}\\right) dv\n",
        "\\end{equation}\n",
        "Writing it in terms of $E$, we get\n",
        "\\begin{equation}\\tag{17}\n",
        "p(E) = \\left(\\frac{m}{2\\pi k_BT}\\right)^{3/2} 4\\pi \\sqrt{\\frac{2E}{m}}\\exp\\left(-\\frac{E}{k_BT}\\right) \\frac{dE}{m}.\n",
        "\\end{equation}\n",
        "Upon simplification we get\n",
        "\\begin{equation}\\tag{18}\n",
        "p(E) = \\frac{2}{\\sqrt{\\pi}}\\left(\\frac{1}{k_BT}\\right)^{3/2}E^{1/2}\\exp\\left(-\\frac{E}{k_BT}\\right)dE\n",
        "\\end{equation}\n",
        "so that the density function is\n",
        "\\begin{equation}\\tag{19}\n",
        "f(E) = \\frac{2}{\\sqrt{\\pi}}\\left(\\frac{1}{k_BT}\\right)^{3/2}E^{1/2}\\exp\\left(-\\frac{E}{k_BT}\\right).\n",
        "\\end{equation}\n",
        "It could be more transparent if we write it as\n",
        "\\begin{equation}\\tag{20}\n",
        "f(E) = \\frac{2}{\\sqrt{\\pi k_BT}}\\left(\\frac{E}{k_BT}\\right)^{1/2}\\exp\\left(-\\frac{E}{k_BT}\\right).\n",
        "\\end{equation}\n",
        "The right hand side is of the form $Cxe^{-x}$ where $C = 2/\\sqrt{\\pi k_BT}$ and $x = E/(k_BT)$. We plot this function below."
      ],
      "metadata": {
        "id": "uQiZxnwTM3x_"
      }
    },
    {
      "cell_type": "code",
      "source": [
        "import numpy as np\n",
        "import matplotlib.pyplot as plt\n",
        "import scipy.constants\n",
        "\n",
        "T = 300 # Room temperature in K.\n",
        "C = 2/np.sqrt(np.pi * scipy.constants.Boltzmann * T)\n",
        "x = np.linspace(0, 10, 100) \n",
        "\n",
        "f = C * x * np.exp(-x)\n",
        "plt.plot(x, f)\n",
        "plt.xlabel(r'$E/(k_BT)$')\n",
        "plt.ylabel(r'f(E)')\n",
        "plt.title('Density function of the energy')\n",
        "plt.show()"
      ],
      "metadata": {
        "colab": {
          "base_uri": "https://localhost:8080/",
          "height": 299
        },
        "id": "_IvgdwVwcpcH",
        "outputId": "bb95d6fd-e42a-48ad-ca57-5dfa432e1b74"
      },
      "execution_count": 1,
      "outputs": [
        {
          "output_type": "display_data",
          "data": {
            "text/plain": [
              "<Figure size 432x288 with 1 Axes>"
            ],
            "image/png": "[encoded data removed]"
          },
          "metadata": {
            "needs_background": "light"
          }
        }
      ]
    },
    {
      "cell_type": "markdown",
      "source": [
        "It is easy to confirm that\n",
        "\\begin{eqnarray}\n",
        "\\langle E \\rangle &=& \\int_0^\\infty Ef(E)dE \\\\\n",
        " &=& \\frac{2}{\\sqrt{\\pi}}\\int_0^\\infty \\left(\\frac{E}{k_BT}\\right)^{3/2}\\exp\\left(-\\frac{E}{k_BT}\\right)dE \\\\\n",
        " &=& \\frac{k_BT}{\\Gamma(1/2)}\\int_0^\\infty x^{3/2}e^{-x}dx,\n",
        "\\end{eqnarray}\n"
      ],
      "metadata": {
        "id": "i9OaEBqXJDsh"
      }
    },
    {
      "cell_type": "markdown",
      "source": [
        "where we made the substitution $x = E/(k_BT)$. The last integral can be evaluated to be $\\Gamma(5/2)$ after the substitution $u = x^2$ so that we finally get\n",
        "\\begin{equation}\\tag{21}\n",
        "\\langle E \\rangle = \\frac{3}{2}k_BT,\n",
        "\\end{equation}\n",
        "as expected from the classical equipartition theorem."
      ],
      "metadata": {
        "id": "ZVBFZTeXKMAi"
      }
    },
    {
      "cell_type": "markdown",
      "source": [
        "One can also confirm that\n",
        "\\begin{eqnarray}\n",
        "\\langle E^2 \\rangle &=& \\int_0^\\infty E^2 f(E)dE \\\\\n",
        " &=& \\frac{(k_BT)^2}{\\Gamma(1/2)}\\int_0^\\infty x^{5/2}e^{-x}dx,\n",
        "\\end{eqnarray}\n",
        "where $x = E/(k_BT)$. Making a further substitution of $x = u^2$ allows us to evaluate the integral to $\\Gamma(7/2)$ so that\n",
        "\\begin{equation}\\tag{22}\n",
        "\\langle E^2 \\rangle = \\frac{15}{4}(k_BT)^2.\n",
        "\\end{equation}\n",
        "Therefore, the variance of energy is\n",
        "\\begin{equation}\\tag{23}\n",
        "\\sigma_E^2 = \\langle E^2 \\rangle - \\langle E \\rangle^2 = \\frac{3}{2}(k_BT)^2\n",
        "\\end{equation}\n",
        "and the standard deviation is\n",
        "\\begin{equation}\\tag{24}\n",
        "\\sigma_E = \\sqrt{\\frac{3}{2}}k_BT.\n",
        "\\end{equation}\n",
        "Both $\\langle E \\rangle$ and $\\sigma_E$ are linear functions of $T$. Therefore it is quite possible for some molecules to have an energy much larger than $\\langle E \\rangle$."
      ],
      "metadata": {
        "id": "LLHKhIw_LqQg"
      }
    },
    {
      "cell_type": "code",
      "source": [
        "from scipy.integrate import quad\n",
        "\n",
        "def f_E(E: float) -> float:\n",
        "    assert(E >= 0)\n",
        "    return np.sqrt(E) * np.exp(-E)\n",
        "\n",
        "def evaluate(lower_limit: float) -> float:\n",
        "    return 2/np.sqrt(np.pi) * quad(f_E, lower_limit, np.inf)[0]\n",
        "\n",
        "lower_limits = [ll for ll in range(1, 5)]\n",
        "probs = [evaluate(ll) for ll in lower_limits]\n",
        "\n",
        "for i in range(len(probs)):\n",
        "    print(f'P(E >= {lower_limits[i]}) = {np.round(100 * probs[i], 2)} %')\n"
      ],
      "metadata": {
        "colab": {
          "base_uri": "https://localhost:8080/"
        },
        "id": "gspKHEvhd7Lu",
        "outputId": "210c6f62-fcbd-400f-ad16-006044160f41"
      },
      "execution_count": 14,
      "outputs": [
        {
          "output_type": "stream",
          "name": "stdout",
          "text": [
            "P(E >= 1) = 57.24 %\n",
            "P(E >= 2) = 26.15 %\n",
            "P(E >= 3) = 11.16 %\n",
            "P(E >= 4) = 4.6 %\n"
          ]
        }
      ]
    },
    {
      "cell_type": "markdown",
      "source": [
        "Because of the large variance there are 4.6% molecules with energy greater than four times the mean energy."
      ],
      "metadata": {
        "id": "_7QA9Ci6eQNf"
      }
    },
    {
      "cell_type": "markdown",
      "source": [
        "# Distribution of relative velocity between two particles\n",
        "\n",
        "The distribution function is\n",
        "\\begin{equation}\\tag{25}\n",
        "f_2(v) = \\iint_{-\\infty}^\\infty f(v_1)f(v_2)\\delta(v - (v_1 - v_2))dv_1 dv_2,\n",
        "\\end{equation}\n",
        "where $f$ is given by equation (1) and the subscript $2$ on the lhs indicates that there are two particles involved in the definition of $v$. From equation (1) we get\n",
        "\\begin{equation}\\tag{26}\n",
        "f_2(v) = \\frac{m}{2\\pi k_BT}\\iint_{-\\infty}^\\infty\\exp\\left(-\\frac{mv_1^2}{2k_BT}\\right)\\exp\\left(-\\frac{mv_2^2}{2k_BT}\\right)\\delta(v_2- (v_1 - v)) dv_1 dv_2\n",
        "\\end{equation}\n",
        "The $v_2$-integral can be readily evaluated so that\n",
        "\\begin{equation}\\tag{27}\n",
        "f_2(v) = \\frac{m}{2\\pi k_BT}\\int_{-\\infty}^\\infty \\exp\\left(-\\frac{mv_1^2}{2k_BT}\\right)\\exp\\left(-\\frac{m(v - v_1)^2}{2k_BT}\\right)dv_1.\n",
        "\\end{equation}\n",
        "We can simplify the integrand to get\n",
        "\\begin{equation}\\tag{28}\n",
        "f_2(v) = \\frac{m}{2\\pi k_BT}\\exp\\left(-\\frac{mv^2}{2k_BT}\\right)\\int_{-\\infty}^\\infty \\exp\\left(-\\frac{mv_1^2}{k_BT} + \\frac{mvv_1}{k_BT}\\right)dv_1.\n",
        "\\end{equation}\n",
        "The integral is of the form\n",
        "\\begin{equation}\\tag{29}\n",
        "\\int_{-\\infty}^\\infty e^{-ax^2 + bx}dx = \\sqrt{\\frac{\\pi}{a}}\\exp\\left(\\frac{b^2}{4a}\\right)\n",
        "\\end{equation}\n",
        "with\n",
        "\\begin{eqnarray}\n",
        "a &=& \\frac{m}{k_BT} \\\\\n",
        "b &=& \\frac{mv}{k_BT}\n",
        "\\end{eqnarray}\n",
        "so that we finally get\n",
        "\\begin{equation}\\tag{30}\n",
        "f_2(v) = \\frac{1}{2}\\sqrt{\\frac{m}{k_BT}}\\exp\\left(-\\frac{mv^2}{4k_BT}\\right) = \n",
        "\\sqrt{\\frac{m}{4k_BT}}\\exp\\left(-\\frac{mv^2}{4k_BT}\\right)\n",
        "\\end{equation}"
      ],
      "metadata": {
        "id": "JzJlyCTyfaEz"
      }
    }
  ]
}