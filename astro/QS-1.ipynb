{
 "cells": [
  {
   "cell_type": "raw",
   "id": "abc430dd-c7f5-438c-aa4c-d92a6a76ccde",
   "metadata": {},
   "source": [
    "---\n",
    "title: A Strange Kind of a Star\n",
    "author: Amey Joshi\n",
    "format: \n",
    "    revealjs:\n",
    "        theme: [default, custom.scss]\n",
    "        scrollable: true\n",
    "        smaller: true\n",
    "code-fold: true\n",
    "execute:\n",
    "    echo: true\n",
    "---"
   ]
  },
  {
   "cell_type": "raw",
   "id": "3ae1d4a4-56cd-4bb9-b95d-4217e4a501cf",
   "metadata": {},
   "source": [
    "## First hint of strangeness\n",
    "\n",
    "- Friedrich Wilhelm Bessel discovered irregularities in the path of [Sirius](https://earthsky.org/constellations/canis-major-the-greater-dog-sirius/), the brightest star in the sky. \n",
    "- He suspected that Sirius is a part of a binary system but could not spot its companion.\n",
    "- The parallax of Sirius was measured to be $0.38''$. \n",
    "- It allows us to estimate the distance from the sun."
   ]
  },
  {
   "cell_type": "code",
   "execution_count": 14,
   "id": "cec5e09e-c9e1-4e4b-a32e-47fad0eed2ad",
   "metadata": {},
   "outputs": [
    {
     "name": "stdout",
     "output_type": "stream",
     "text": [
      "Sirius is at a distance of 542802 AU from the sun.\n"
     ]
    }
   ],
   "source": [
    "import numpy as np\n",
    "import scipy.constants as sc\n",
    "\n",
    "parallax_s = 0.38 # in seconds\n",
    "parallax_d = parallax_s/3600 # in degrees\n",
    "parallax_r = parallax_d * np.pi/180 # in radians\n",
    "\n",
    "distance_au = 1/parallax_r\n",
    "print(f'Sirius is at a distance of {distance_au:.0f} AU from the sun.')"
   ]
  },
  {
   "cell_type": "raw",
   "id": "f016175e-cf06-4cb9-94dc-7a346f290c0f",
   "metadata": {},
   "source": [
    "## A companion is found\n",
    "\n",
    "- Alvan Clark Jr accidentally discovered a faint companion to Sirius when he was testing a new lens produced by his father’s company.\n",
    "- Absolute visual magnitude of the companion, now called Sirius B but Eddington called is Sirius _coms_, is $11.18$.\n",
    "- The original Sirius, now called Sirius A, has an absolute visual magnitude of $1.43$. This allows us to compare their brightness using the formula\n",
    "$$\n",
    "m_1 - m_2 = \\frac{5}{2}\\log_{10}\\left(\\frac{F_1}{F_2}\\right)\n",
    "$$"
   ]
  },
  {
   "cell_type": "code",
   "execution_count": 5,
   "id": "3029bc9f-8fb9-4452-9f90-2c3e85270703",
   "metadata": {},
   "outputs": [
    {
     "name": "stdout",
     "output_type": "stream",
     "text": [
      "Sirius A is 7943.28 times brighter than Sirius B.\n"
     ]
    }
   ],
   "source": [
    "mA = 1.43\n",
    "mB = 11.18\n",
    "x = 1/10**(2 * (mA - mB)/5)\n",
    "print(f'Sirius A is {x:0.2f} times brighter than Sirius B.')"
   ]
  },
  {
   "cell_type": "raw",
   "id": "e353509b-c769-42b2-82da-1298949830f9",
   "metadata": {},
   "source": [
    "## Comparison with the sun\n",
    "\n",
    "- Let us compare the brightness of these stars with that of the sun."
   ]
  },
  {
   "cell_type": "code",
   "execution_count": 7,
   "id": "cd0274e0-2f79-4015-9bbe-5810d065b1dd",
   "metadata": {},
   "outputs": [
    {
     "name": "stdout",
     "output_type": "stream",
     "text": [
      "Sirius A is 22.91 times brighter than the sun.\n",
      "The sun is is 346.74 times brighter than Sirius B.\n"
     ]
    }
   ],
   "source": [
    "mS = 4.83\n",
    "xA = 1/10**(2 * (mA - mS)/5)\n",
    "xB = 10**(2 * (mB - mS)/5)\n",
    "print(f'Sirius A is {xA:0.2f} times brighter than the sun.')\n",
    "print(f'The sun is is {xB:0.2f} times brighter than Sirius B.')"
   ]
  },
  {
   "cell_type": "raw",
   "id": "7bf9d3d8-9ba7-4b77-8b64-8d89264c006f",
   "metadata": {},
   "source": [
    "## The orbit of the binary system\n",
    "\n",
    "- The period of Sirius A (and B) around the centre of mass of the binary system was measured to be about $50$ years.\n",
    "- The semi-major axis of the elliptical orbit was found to be roughly $7.5''$. Therefore, its length is"
   ]
  },
  {
   "cell_type": "code",
   "execution_count": 12,
   "id": "a21d462e-8d39-4096-8828-b290f3a66980",
   "metadata": {},
   "outputs": [
    {
     "name": "stdout",
     "output_type": "stream",
     "text": [
      "The semi-major axis of the binary system is 19.74 AU.\n"
     ]
    }
   ],
   "source": [
    "theta_d = 7.5/3600\n",
    "theta_r = theta_d * np.pi/180\n",
    "a = distance_au * theta_r\n",
    "print(f'The semi-major axis of the binary system is {a:0.2f} AU.')"
   ]
  },
  {
   "cell_type": "raw",
   "id": "4b0f0885-4668-4429-b326-3e954bce01cf",
   "metadata": {},
   "source": [
    "- This information suffices to calculate the mass of the binary system.\n",
    "\n",
    "## In keeping with LAAG tradition\n",
    "\n",
    "- Kepler's third law for a binary system is\n",
    "$$\n",
    "T^2 = \\frac{4\\pi^2}{G(m_1 + m_2)}a^3.\n",
    "$$\n",
    "- We can calculate $m_1 + m_2$ using this equation."
   ]
  },
  {
   "cell_type": "code",
   "execution_count": 15,
   "id": "73a63645-b8d2-4b1a-a325-87003b1b8730",
   "metadata": {},
   "outputs": [
    {
     "name": "stdout",
     "output_type": "stream",
     "text": [
      "Mass of the Sirius binary system is 3.08 solar masses.\n"
     ]
    }
   ],
   "source": [
    "AU = 149597870700 # One astronomical unit in m.\n",
    "SO = 1.989e30 # One solar mass in kg.\n",
    "\n",
    "a_m = a * AU # Semi-major axis in metres.\n",
    "T_s = 50 * 3.154e7 # Period in seconds.\n",
    "sum_of_masses_kg = 4 * np.pi**2 * a_m**3/(sc.G * T_s**2)\n",
    "sum_of_masses_sm = sum_of_masses_kg/SO\n",
    "print(f'Mass of the Sirius binary system is {sum_of_masses_sm:0.2f} solar masses.')"
   ]
  },
  {
   "cell_type": "raw",
   "id": "164ac067-6894-4101-8e28-789ee81eb3f0",
   "metadata": {},
   "source": [
    "- Otto Struve measured the angular separation between Sirius A and B to be thrice the separation between the centre of mass and Sirius A.\n",
    "- Sirius A is therefore twice as massive as Sirius B.\n",
    "\n",
    "## A different kind of a star\n",
    "- We now use the mass-luminosity relation to calculate the mass of the two stars. For a main-sequence star, it is\n",
    "$$\n",
    "\\frac{L}{L_\\odot} = \\left(\\frac{M}{M_\\odot}\\right)^{4}.\n",
    "$$\n",
    "for stars of masses between $0.43$ and $2\\;M\\odot$.\n",
    "- We calculated the ratio on the left hand side to be $22.91$. Therefore,"
   ]
  },
  {
   "cell_type": "code",
   "execution_count": 25,
   "id": "659a7cfc-e8ac-41d3-be2b-f07f0e8ed105",
   "metadata": {},
   "outputs": [
    {
     "name": "stdout",
     "output_type": "stream",
     "text": [
      "The mass of Sirius A is 2.19 times that of the sun.\n",
      "Therefore mass of Sirius B is 0.89 times that of the sun.\n"
     ]
    }
   ],
   "source": [
    "print(f'The mass of Sirius A is {xA**(1/4):0.2f} times that of the sun.')\n",
    "print(f'Therefore mass of Sirius B is {sum_of_masses_sm - xA**(1/4):0.2f} times that of the sun.')"
   ]
  },
  {
   "cell_type": "raw",
   "id": "6fae5a42-b092-4b63-bb07-1a80c64ea584",
   "metadata": {},
   "source": [
    "- These are crude calculations. More accurate ones give the mass of Sirius B to be roughly $1\\;M_\\odot$ and that of Sirius A to to $2\\;M_\\odot$.\n",
    "- Herein lies the strangeness of Sirius B. It is almost as massive as the sun but its luminosity is almost $350$ times lesser. What kind of star is this?"
   ]
  }
 ],
 "metadata": {
  "kernelspec": {
   "display_name": "Python 3 (ipykernel)",
   "language": "python",
   "name": "python3"
  },
  "language_info": {
   "codemirror_mode": {
    "name": "ipython",
    "version": 3
   },
   "file_extension": ".py",
   "mimetype": "text/x-python",
   "name": "python",
   "nbconvert_exporter": "python",
   "pygments_lexer": "ipython3",
   "version": "3.13.1"
  }
 },
 "nbformat": 4,
 "nbformat_minor": 5
}
