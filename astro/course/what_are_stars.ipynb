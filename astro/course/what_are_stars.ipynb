{
  "nbformat": 4,
  "nbformat_minor": 0,
  "metadata": {
    "colab": {
      "provenance": [],
      "authorship_tag": "ABX9TyM/6lodxKYiGOS6BTSjnZ3R",
      "include_colab_link": true
    },
    "kernelspec": {
      "name": "python3",
      "display_name": "Python 3"
    },
    "language_info": {
      "name": "python"
    }
  },
  "cells": [
    {
      "cell_type": "markdown",
      "metadata": {
        "id": "view-in-github",
        "colab_type": "text"
      },
      "source": [
        "<a href=\"https://colab.research.google.com/github/drameyjoshi/physics/blob/main/astro/course/what_are_stars.ipynb\" target=\"_parent\"><img src=\"https://colab.research.google.com/assets/colab-badge.svg\" alt=\"Open In Colab\"/></a>"
      ]
    },
    {
      "cell_type": "code",
      "execution_count": 111,
      "metadata": {
        "id": "Mu8EHOEJvwfI"
      },
      "outputs": [],
      "source": [
        "import astropy.constants\n",
        "import scipy.constants"
      ]
    },
    {
      "cell_type": "code",
      "source": [
        "G = astropy.constants.G.cgs                                 # Universal gravitational constant\n",
        "c = astropy.constants.c.cgs                                 # Speed of light in vacuum\n",
        "T = 365 * 24 * 60 * 60 * astropy.units.s                    # Number of seconds in a year\n",
        "m_H = astropy.constants.m_p.cgs + astropy.constants.m_e.cgs # Mass of H atom in g\n",
        "k_B = astropy.constants.k_B.cgs                             # Boltzmann constant in erg/K"
      ],
      "metadata": {
        "id": "l6ECEY5RwPf7"
      },
      "execution_count": 112,
      "outputs": []
    },
    {
      "cell_type": "markdown",
      "source": [
        "# Estimation of physical parameters of the sun"
      ],
      "metadata": {
        "id": "qF7cl1OyDCw3"
      }
    },
    {
      "cell_type": "markdown",
      "source": [
        "## Mass\n",
        "\n",
        "Assume that the earth moves in a circular orbit around the sun. Then the equation of motion is\n",
        "\\begin{equation}\\tag{1}\n",
        "\\frac{mv^2}{r} = \\frac{GmM_\\odot}{r^2},\n",
        "\\end{equation}\n",
        "where $m$ is the mass of the earth, $M$ is the mass of the sun, $v$ is the orbital speed of the earth, $r$ the radius of the orbit and $G$ is the universal gravitational constant. The speed of earth is\n",
        "\\begin{equation}\\tag{2}\n",
        "v = \\frac{2\\pi r}{T},\n",
        "\\end{equation}\n",
        "where $T$ is the period of motion, 1 year. From equations (1) and (2) we get\n",
        "\\begin{equation}\\tag{3}\n",
        "M_\\odot = 4\\pi^2 \\frac{r^3}{T^2G}.\n",
        "\\end{equation}\n",
        "It takes $8$ minutes for light to reach the earth from the sun. This allows us to estimate $r$."
      ],
      "metadata": {
        "id": "ngRpYqmawx1u"
      }
    },
    {
      "cell_type": "code",
      "source": [
        "r = 8 * 60 * c * astropy.units.s # Radius of the earth's orbit.\n",
        "M_s = 4 * scipy.constants.pi**2 * r**3 / (T**2 * G)\n",
        "print(f\"Mass of the sun is approximately {M_s}.\")"
      ],
      "metadata": {
        "colab": {
          "base_uri": "https://localhost:8080/"
        },
        "id": "gGbK-FtcxogW",
        "outputId": "fe9e2118-1c25-4116-9a77-e22594d93f7a"
      },
      "execution_count": 113,
      "outputs": [
        {
          "output_type": "stream",
          "name": "stdout",
          "text": [
            "Mass of the sun is approximately 1.772256672352156e+33 g.\n"
          ]
        }
      ]
    },
    {
      "cell_type": "markdown",
      "source": [
        "We estimated the mass of sun to be $1.77 \\times 10^{33}$ g. The actual mass is $1.90 \\times 10^{33}$ g. Our estimate has an error of $(1.90 - 1.77)/1.90 ≈ 6.8\\%$."
      ],
      "metadata": {
        "id": "ygZmCDbxy0ZK"
      }
    },
    {
      "cell_type": "markdown",
      "source": [
        "## Radius\n",
        "\n",
        "The apparent size of the sun's disc at noon is $0.524^\\circ$. If we denote the corresponding value in radians as $\\theta_s$ then we have\n",
        "\\begin{equation}\\tag{4}\n",
        "\\theta_\\odot = \\frac{0.524\\pi}{180}.\n",
        "\\end{equation}\n",
        "The radius of the sun is\n",
        "\\begin{equation}\\tag{5}\n",
        "R_\\odot = \\frac{r\\theta_s}{2},\n",
        "\\end{equation}\n",
        "where $r$ is the distance of the earth from the sun. We estimate is in the next cell."
      ],
      "metadata": {
        "id": "SG7QU73o0KXh"
      }
    },
    {
      "cell_type": "code",
      "source": [
        "R_s = 0.524 * scipy.constants.pi/180 * r/2\n",
        "R_s_km = R_s.to(\"km\")\n",
        "print(f\"Radius of the sun is approximately {R_s_km}.\")"
      ],
      "metadata": {
        "colab": {
          "base_uri": "https://localhost:8080/"
        },
        "id": "HnmT8LAM2oB2",
        "outputId": "19de247d-83a5-4120-8e9a-62bf185d130d"
      },
      "execution_count": 123,
      "outputs": [
        {
          "output_type": "stream",
          "name": "stdout",
          "text": [
            "Radius of the sun is approximately 658022.2808465594 km.\n"
          ]
        }
      ]
    },
    {
      "cell_type": "markdown",
      "source": [
        "The actual radius is $696,340$ km. Our estimate has an error of $5.5\\%$.\n",
        "\n",
        "## Mass density\n",
        "\n",
        "We know the mass and the radius. The density is\n",
        "\\begin{equation}\\tag{6}\n",
        "\\rho_\\odot = \\frac{3M_\\odot}{4\\pi R_\\odot^3}.\n",
        "\\end{equation}"
      ],
      "metadata": {
        "id": "3hfBjCBJ3KV9"
      }
    },
    {
      "cell_type": "code",
      "source": [
        "rho_s = 3 * M_s/(4 * scipy.constants.pi * R_s**3)\n",
        "print(f\"Density of the sun is approximately {rho_s}.\")"
      ],
      "metadata": {
        "colab": {
          "base_uri": "https://localhost:8080/"
        },
        "id": "NhT7Kwox4FBe",
        "outputId": "8f1a9ed2-8456-496a-d373-27a2e060818c"
      },
      "execution_count": 115,
      "outputs": [
        {
          "output_type": "stream",
          "name": "stdout",
          "text": [
            "Density of the sun is approximately 1.4849649846743935 g / cm3.\n"
          ]
        }
      ]
    },
    {
      "cell_type": "markdown",
      "source": [
        "The actual value is $1.41$ g cm$^{-3}$. Our estimate has an error of close to $5 \\%$."
      ],
      "metadata": {
        "id": "x9ISRTqF4gjF"
      }
    },
    {
      "cell_type": "markdown",
      "source": [
        "## Surface temperature\n",
        "\n",
        "The luminosity of sun is $L_\\odot = 3.86 \\times 10^{33}$ erg/s. Therefore, its radiance emittance is luminosity per unit surface area,\n",
        "\\begin{equation}\\tag{7}\n",
        "\\mathcal{R}_\\odot = \\frac{L_\\odot}{4\\pi R_\\odot^2}\n",
        "\\end{equation}\n",
        " Using Stefan's law, we can estimate the temperature to be\n",
        "\\begin{equation}\\tag{8}\n",
        "T_\\odot = \\left(\\frac{\\mathcal{R}_\\odot}{\\sigma}\\right)^{1/4},\n",
        "\\end{equation}\n",
        "where $\\sigma$ is the Stefan-Boltzmann constant."
      ],
      "metadata": {
        "id": "KZhRyH9f5JfH"
      }
    },
    {
      "cell_type": "code",
      "source": [
        "L_s = astropy.constants.L_sun.cgs # Solar luminosity in erg/s\n",
        "Re_s = L_s/(4 * scipy.constants.pi * R_s**2)\n",
        "\n",
        "# The package messed up with the units of Stefan-Boltzmann constant in cgs.\n",
        "sigma = astropy.constants.sigma_sb.cgs.value * astropy.units.erg/(astropy.units.cm**2 * astropy.units.K**4 * astropy.units.s)\n",
        "\n",
        "T_s = (Re_s/sigma)**(1/4)\n",
        "print(f\"Surface temperature of the sun is approximately {T_s}.\")"
      ],
      "metadata": {
        "colab": {
          "base_uri": "https://localhost:8080/"
        },
        "id": "eaKIieSV5IJE",
        "outputId": "330902c6-72c8-49e8-af93-578cf93c0d43"
      },
      "execution_count": 116,
      "outputs": [
        {
          "output_type": "stream",
          "name": "stdout",
          "text": [
            "Surface temperature of the sun is approximately 5934.952978938695 K.\n"
          ]
        }
      ]
    },
    {
      "cell_type": "markdown",
      "source": [
        "Measured value of surface temperature is $5,772$ K. Our estimate has a $3\\%$ error."
      ],
      "metadata": {
        "id": "H0ZcbLy87UJA"
      }
    },
    {
      "cell_type": "markdown",
      "source": [
        "Thermal energy of a particle at temperature $T$ is\n",
        "\\begin{equation}\\tag{9}\n",
        "\\mathcal{E}\\text{(in erg)} = \\frac{3}{2}k_BT,\n",
        "\\end{equation}\n",
        "where $k_B$ is the Boltzmann constant. In electron volts it is\n",
        "\\begin{equation}\\tag{10}\n",
        "\\mathcal{E} \\text{(in eV)} = \\frac{\\mathcal{E}\\text{(in erg)}}{1.6 \\times 10^{-12}}\n",
        "\\end{equation}"
      ],
      "metadata": {
        "id": "j3cWHyDW9wMb"
      }
    },
    {
      "cell_type": "code",
      "source": [
        "E_surf = 1.5 * k_B * T_s\n",
        "E_surf_eV = E_surf.to(\"eV\")\n",
        "print(f\"Thermal energy of a particle at sun's sruface is {E_surf_eV}.\")"
      ],
      "metadata": {
        "colab": {
          "base_uri": "https://localhost:8080/"
        },
        "id": "QQP_e8Dq-wJG",
        "outputId": "35eb5d98-a39a-4098-ea8c-19145b087dc8"
      },
      "execution_count": 125,
      "outputs": [
        {
          "output_type": "stream",
          "name": "stdout",
          "text": [
            "Thermal energy of a particle at sun's sruface is 0.7671520157201405 eV.\n"
          ]
        }
      ]
    },
    {
      "cell_type": "markdown",
      "source": [
        "This is way less than the ionization energy of atomic hydrogen. This is also far less than the bond dissociation energy of hydrogen molecule. Therefore, on the surface of the sun, hydrogen will exists in molecular form."
      ],
      "metadata": {
        "id": "wevXDPa1_aet"
      }
    },
    {
      "cell_type": "markdown",
      "source": [
        "## Internal temperature\n",
        "\n",
        "The internal temperature of the sun can be estimated using the virial theorem. However, to do that, we first need to compute the gravitational potential energy of the sun. If the mass density of sun is $\\rho(r)$ then the potential energy of a shell of thickness $dr$ at a distance $r$ from the centre is\n",
        "\n",
        "\\begin{equation}\\tag{11}\n",
        "dU = -\\frac{GM(r)}{r} dm = -\\frac{GM(r)}{r} \\rho(r) 4\\pi r^2 dr.\n",
        "\\end{equation}\n",
        "\n",
        "If we simplify the analysis by choosing $\\rho = \\rho_\\odot$ throughout the sun's interior then we get\n",
        "\\begin{equation}\\tag{12}\n",
        "U = -\\frac{3}{5}\\frac{GM_\\odot^2}{R_\\odot}.\n",
        "\\end{equation}\n",
        "\n",
        "According to the virial theorem, the kinetic energy is\n",
        "\\begin{equation}\\tag{13}\n",
        "K = -\\frac{1}{2}U = \\frac{3}{10}\\frac{GM_\\odot^2}{R_\\odot}.\n",
        "\\end{equation}\n",
        "\n",
        "If there are $N$ particles in the sun, then the kinetic energy is\n",
        "\\begin{equation}\\tag{14}\n",
        "K = \\frac{3}{2}Nk_B T\n",
        "\\end{equation}\n",
        "\n",
        "From equations (13) and (14) we get\n",
        "\\begin{equation}\\tag{15}\n",
        "T = \\frac{GM_\\odot^2}{5R_\\odot Nk_B}.\n",
        "\\end{equation}\n",
        "\n",
        "We know the values of all variables on the right hand side except $N$. We can estimate it from the solar mass assuming that all of it is hydrogen. If $m_H$ denotes the mass of the hydrogen atom then\n",
        "\\begin{equation}\\tag{16}\n",
        "Nm_H = M_⊙\n",
        "\\end{equation}\n",
        "\n",
        "From (15) and (16) we get\n",
        "\\begin{equation}\\tag{17}\n",
        "T = \\frac{Gm_HM_\\odot}{5R_\\odot k_B}.\n",
        "\\end{equation}\n"
      ],
      "metadata": {
        "id": "0kHkIfgSC_kG"
      }
    },
    {
      "cell_type": "code",
      "source": [
        "\n",
        "T = G * m_H * M_s/(5 * R_s * k_B)\n",
        "print(f\"Interior temperature of the sun is {T.value * 1E-6} million K.\")"
      ],
      "metadata": {
        "colab": {
          "base_uri": "https://localhost:8080/"
        },
        "id": "2iJ7W3UBHjJx",
        "outputId": "54434ac7-6929-4f25-d494-e10125319eea"
      },
      "execution_count": 118,
      "outputs": [
        {
          "output_type": "stream",
          "name": "stdout",
          "text": [
            "Interior temperature of the sun is 4.357854262452997 million K.\n"
          ]
        }
      ]
    }
  ]
}