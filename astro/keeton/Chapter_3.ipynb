{
  "nbformat": 4,
  "nbformat_minor": 0,
  "metadata": {
    "colab": {
      "provenance": [],
      "authorship_tag": "ABX9TyMQMbnWLbwHPQtkzu2ocqpF",
      "include_colab_link": true
    },
    "kernelspec": {
      "name": "python3",
      "display_name": "Python 3"
    },
    "language_info": {
      "name": "python"
    }
  },
  "cells": [
    {
      "cell_type": "markdown",
      "metadata": {
        "id": "view-in-github",
        "colab_type": "text"
      },
      "source": [
        "<a href=\"https://colab.research.google.com/github/drameyjoshi/physics/blob/main/astro/keeton/Chapter_3.ipynb\" target=\"_parent\"><img src=\"https://colab.research.google.com/assets/colab-badge.svg\" alt=\"Open In Colab\"/></a>"
      ]
    },
    {
      "cell_type": "markdown",
      "source": [
        "# Problem 4"
      ],
      "metadata": {
        "id": "OH1qsrpvyBj1"
      }
    },
    {
      "cell_type": "code",
      "source": [
        "M_earth = 5.9722e24\n",
        "r = 42200 * 1000 # Lunar radius in m\n",
        "T_lunar = 2 * np.pi * np.sqrt(r**3/(G * M_earth))\n",
        "T_lunar_hours = T_lunar/3600\n",
        "T_lunar_days = T_lunar/(24 * 3600)\n",
        "print(f\"Moon's period would be {T_lunar_hours:0.4e} hours.\")"
      ],
      "metadata": {
        "colab": {
          "base_uri": "https://localhost:8080/"
        },
        "id": "zmzE7DrQxIJw",
        "outputId": "4a158a58-5224-4d3f-87dc-bbdd478e93d6"
      },
      "execution_count": 10,
      "outputs": [
        {
          "output_type": "stream",
          "name": "stdout",
          "text": [
            "Moon's period would be 2.3965e+01 days.\n"
          ]
        }
      ]
    },
    {
      "cell_type": "markdown",
      "source": [
        "All phases of the moon will be visible in a single day. Depending on the longitude, the starting phase of the moon will appear differently."
      ],
      "metadata": {
        "id": "NSD8lrjKyLl7"
      }
    },
    {
      "cell_type": "markdown",
      "source": [
        "# Problem 5"
      ],
      "metadata": {
        "id": "do1iuJIAwVtr"
      }
    },
    {
      "cell_type": "code",
      "execution_count": 1,
      "metadata": {
        "id": "trNLqP_at1YH"
      },
      "outputs": [],
      "source": [
        "import numpy as np\n",
        "from scipy.constants import G"
      ]
    },
    {
      "cell_type": "markdown",
      "source": [
        "Kepler's law is\n",
        "$$\n",
        "T^2 = \\frac{4\\pi^2 r^3}{GM}\n",
        "$$\n",
        "that is,\n",
        "$$\n",
        "M = \\frac{4\\pi^2 r^3}{GT^2}\n",
        "$$"
      ],
      "metadata": {
        "id": "1BLpAWd_t8X1"
      }
    },
    {
      "cell_type": "code",
      "source": [
        "T_days = [1.769, 3.551, 7.155, 16.689]\n",
        "r_kkm = [421.7, 670.9, 1070.4, 1882.7]\n",
        "\n",
        "T_sec = [t * 24 * 3600 for t in T_days]\n",
        "r_m = [r * 1e6 for r in r_kkm]\n",
        "\n",
        "#print([t for t in zip(r_m, T_sec)])\n",
        "M_est = [4*np.pi**2 * params[0]**3/(G * params[1]**2) for params in zip(r_m, T_sec)]\n",
        "print(\"The mass estimates are:\")\n",
        "_ = [print(f\"{m:0.6e}\") for m in M_est]"
      ],
      "metadata": {
        "colab": {
          "base_uri": "https://localhost:8080/"
        },
        "id": "MAG_mWq2ugLN",
        "outputId": "72208a7f-3e37-4aed-c953-e7142d1566e6"
      },
      "execution_count": 8,
      "outputs": [
        {
          "output_type": "stream",
          "name": "stdout",
          "text": [
            "The mass estimates are:\n",
            "1.898811e+27\n",
            "1.897573e+27\n",
            "1.898216e+27\n",
            "1.898494e+27\n"
          ]
        }
      ]
    },
    {
      "cell_type": "markdown",
      "source": [
        "# Problem 6\n",
        "\n",
        "The expression for velocity is\n",
        "$$\n",
        "v = -l\\frac{du}{d\\phi},\n",
        "$$\n",
        "where $u = 1/r$. Using the equation of orbit\n",
        "$$\n",
        "r = \\frac{a(1 - e^2)}{1 + e\\cos\\phi}\n",
        "$$\n",
        "we get\n",
        "$$\n",
        "v(\\phi) = \\frac{el^2\\sin\\phi}{a(1 - e^2)}.\n",
        "$$\n",
        "Clearly, at the turning points $v = 0$."
      ],
      "metadata": {
        "id": "PeVqV-px1qe6"
      }
    }
  ]
}