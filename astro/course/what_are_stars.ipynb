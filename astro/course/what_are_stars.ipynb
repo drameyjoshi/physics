{
  "nbformat": 4,
  "nbformat_minor": 0,
  "metadata": {
    "colab": {
      "provenance": [],
      "authorship_tag": "ABX9TyPD0EAzN4RzbeM475L4/7nV",
      "include_colab_link": true
    },
    "kernelspec": {
      "name": "python3",
      "display_name": "Python 3"
    },
    "language_info": {
      "name": "python"
    }
  },
  "cells": [
    {
      "cell_type": "markdown",
      "metadata": {
        "id": "view-in-github",
        "colab_type": "text"
      },
      "source": [
        "<a href=\"https://colab.research.google.com/github/drameyjoshi/physics/blob/main/astro/course/what_are_stars.ipynb\" target=\"_parent\"><img src=\"https://colab.research.google.com/assets/colab-badge.svg\" alt=\"Open In Colab\"/></a>"
      ]
    },
    {
      "cell_type": "code",
      "execution_count": 6,
      "metadata": {
        "id": "Mu8EHOEJvwfI"
      },
      "outputs": [],
      "source": [
        "import astropy\n",
        "import scipy\n",
        "import numpy"
      ]
    },
    {
      "cell_type": "code",
      "source": [
        "G = astropy.constants.G.cgs                                 # Universal gravitational constant\n",
        "c = astropy.constants.c.cgs                                 # Speed of light in vacuum\n",
        "T = 365 * 24 * 60 * 60 * astropy.units.s                    # Number of seconds in a year\n",
        "m_H = astropy.constants.m_p.cgs + astropy.constants.m_e.cgs # Mass of H atom in g\n",
        "k_B = astropy.constants.k_B.cgs                             # Boltzmann constant in erg/K"
      ],
      "metadata": {
        "id": "l6ECEY5RwPf7"
      },
      "execution_count": 7,
      "outputs": []
    },
    {
      "cell_type": "markdown",
      "source": [
        "# Estimation of physical parameters of the sun"
      ],
      "metadata": {
        "id": "qF7cl1OyDCw3"
      }
    },
    {
      "cell_type": "markdown",
      "source": [
        "## Mass\n",
        "\n",
        "Assume that the earth moves in a circular orbit around the sun. Then the equation of motion is\n",
        "\\begin{equation}\\tag{1}\n",
        "\\frac{mv^2}{r} = \\frac{GmM_\\odot}{r^2},\n",
        "\\end{equation}\n",
        "where $m$ is the mass of the earth, $M$ is the mass of the sun, $v$ is the orbital speed of the earth, $r$ the radius of the orbit and $G$ is the universal gravitational constant. The speed of earth is\n",
        "\\begin{equation}\\tag{2}\n",
        "v = \\frac{2\\pi r}{T},\n",
        "\\end{equation}\n",
        "where $T$ is the period of motion, 1 year. From equations (1) and (2) we get\n",
        "\\begin{equation}\\tag{3}\n",
        "M_\\odot = 4\\pi^2 \\frac{r^3}{T^2G}.\n",
        "\\end{equation}\n",
        "It takes $8$ minutes for light to reach the earth from the sun. This allows us to estimate $r$."
      ],
      "metadata": {
        "id": "ngRpYqmawx1u"
      }
    },
    {
      "cell_type": "code",
      "source": [
        "r = 8 * 60 * c * astropy.units.s # Radius of the earth's orbit.\n",
        "M_s = 4 * scipy.constants.pi**2 * r**3 / (T**2 * G)\n",
        "print(f\"Mass of the sun is approximately {M_s}.\")"
      ],
      "metadata": {
        "colab": {
          "base_uri": "https://localhost:8080/"
        },
        "id": "gGbK-FtcxogW",
        "outputId": "42b7037c-e054-4af1-e94c-53b07e6728af"
      },
      "execution_count": 8,
      "outputs": [
        {
          "output_type": "stream",
          "name": "stdout",
          "text": [
            "Mass of the sun is approximately 1.772256672352156e+33 g.\n"
          ]
        }
      ]
    },
    {
      "cell_type": "markdown",
      "source": [
        "We estimated the mass of sun to be $1.77 \\times 10^{33}$ g. The actual mass is $1.90 \\times 10^{33}$ g. Our estimate has an error of $(1.90 - 1.77)/1.90 ≈ 6.8\\%$."
      ],
      "metadata": {
        "id": "ygZmCDbxy0ZK"
      }
    },
    {
      "cell_type": "markdown",
      "source": [
        "## Radius\n",
        "\n",
        "The apparent size of the sun's disc at noon is $0.524^\\circ$. If we denote the corresponding value in radians as $\\theta_s$ then we have\n",
        "\\begin{equation}\\tag{4}\n",
        "\\theta_\\odot = \\frac{0.524\\pi}{180}.\n",
        "\\end{equation}\n",
        "The radius of the sun is\n",
        "\\begin{equation}\\tag{5}\n",
        "R_\\odot = \\frac{r\\theta_s}{2},\n",
        "\\end{equation}\n",
        "where $r$ is the distance of the earth from the sun. We estimate is in the next cell."
      ],
      "metadata": {
        "id": "SG7QU73o0KXh"
      }
    },
    {
      "cell_type": "code",
      "source": [
        "R_s = 0.524 * scipy.constants.pi/180 * r/2\n",
        "R_s_km = R_s.to(\"km\")\n",
        "print(f\"Radius of the sun is approximately {R_s_km}.\")"
      ],
      "metadata": {
        "colab": {
          "base_uri": "https://localhost:8080/"
        },
        "id": "HnmT8LAM2oB2",
        "outputId": "5dc8172e-ef73-44d9-e9d3-ecd178127d77"
      },
      "execution_count": 9,
      "outputs": [
        {
          "output_type": "stream",
          "name": "stdout",
          "text": [
            "Radius of the sun is approximately 658022.2808465594 km.\n"
          ]
        }
      ]
    },
    {
      "cell_type": "markdown",
      "source": [
        "The actual radius is $696,340$ km. Our estimate has an error of $5.5\\%$.\n",
        "\n",
        "## Mass density\n",
        "\n",
        "We know the mass and the radius. The density is\n",
        "\\begin{equation}\\tag{6}\n",
        "\\rho_\\odot = \\frac{3M_\\odot}{4\\pi R_\\odot^3}.\n",
        "\\end{equation}"
      ],
      "metadata": {
        "id": "3hfBjCBJ3KV9"
      }
    },
    {
      "cell_type": "code",
      "source": [
        "rho_s = 3 * M_s/(4 * scipy.constants.pi * R_s**3)\n",
        "print(f\"Density of the sun is approximately {rho_s}.\")"
      ],
      "metadata": {
        "colab": {
          "base_uri": "https://localhost:8080/"
        },
        "id": "NhT7Kwox4FBe",
        "outputId": "f5818a76-6894-4843-db23-24f6cfd4a6fb"
      },
      "execution_count": 10,
      "outputs": [
        {
          "output_type": "stream",
          "name": "stdout",
          "text": [
            "Density of the sun is approximately 1.4849649846743935 g / cm3.\n"
          ]
        }
      ]
    },
    {
      "cell_type": "markdown",
      "source": [
        "The actual value is $1.41$ g cm$^{-3}$. Our estimate has an error of close to $5 \\%$."
      ],
      "metadata": {
        "id": "x9ISRTqF4gjF"
      }
    },
    {
      "cell_type": "markdown",
      "source": [
        "## Surface temperature\n",
        "\n",
        "The luminosity of sun is $L_\\odot = 3.86 \\times 10^{33}$ erg/s. Therefore, its radiance emittance is luminosity per unit surface area,\n",
        "\\begin{equation}\\tag{7}\n",
        "\\mathcal{R}_\\odot = \\frac{L_\\odot}{4\\pi R_\\odot^2}\n",
        "\\end{equation}\n",
        " Using Stefan's law, we can estimate the temperature to be\n",
        "\\begin{equation}\\tag{8}\n",
        "T_\\odot = \\left(\\frac{\\mathcal{R}_\\odot}{\\sigma}\\right)^{1/4},\n",
        "\\end{equation}\n",
        "where $\\sigma$ is the Stefan-Boltzmann constant."
      ],
      "metadata": {
        "id": "KZhRyH9f5JfH"
      }
    },
    {
      "cell_type": "code",
      "source": [
        "L_s = astropy.constants.L_sun.cgs # Solar luminosity in erg/s\n",
        "Re_s = L_s/(4 * scipy.constants.pi * R_s**2)\n",
        "\n",
        "# The package messed up with the units of Stefan-Boltzmann constant in cgs.\n",
        "sigma = astropy.constants.sigma_sb.cgs.value * astropy.units.erg/(astropy.units.cm**2 * astropy.units.K**4 * astropy.units.s)\n",
        "\n",
        "T_s = (Re_s/sigma)**(1/4)\n",
        "print(f\"Surface temperature of the sun is approximately {T_s}.\")"
      ],
      "metadata": {
        "colab": {
          "base_uri": "https://localhost:8080/"
        },
        "id": "eaKIieSV5IJE",
        "outputId": "701d133e-d1ad-4444-b8e5-72438d6f08c6"
      },
      "execution_count": 11,
      "outputs": [
        {
          "output_type": "stream",
          "name": "stdout",
          "text": [
            "Surface temperature of the sun is approximately 5934.952978938695 K.\n"
          ]
        }
      ]
    },
    {
      "cell_type": "markdown",
      "source": [
        "Measured value of surface temperature is $5,772$ K. Our estimate has a $3\\%$ error."
      ],
      "metadata": {
        "id": "H0ZcbLy87UJA"
      }
    },
    {
      "cell_type": "markdown",
      "source": [
        "Thermal energy of a particle at temperature $T$ is\n",
        "\\begin{equation}\\tag{9}\n",
        "\\mathcal{E}\\text{(in erg)} = \\frac{3}{2}k_BT,\n",
        "\\end{equation}\n",
        "where $k_B$ is the Boltzmann constant. In electron volts it is\n",
        "\\begin{equation}\\tag{10}\n",
        "\\mathcal{E} \\text{(in eV)} = \\frac{\\mathcal{E}\\text{(in erg)}}{1.6 \\times 10^{-12}}\n",
        "\\end{equation}"
      ],
      "metadata": {
        "id": "j3cWHyDW9wMb"
      }
    },
    {
      "cell_type": "code",
      "source": [
        "E_surf = 1.5 * k_B * T_s\n",
        "E_surf_eV = E_surf.to(\"eV\")\n",
        "print(f\"Thermal energy of a particle at sun's sruface is {E_surf_eV}.\")"
      ],
      "metadata": {
        "colab": {
          "base_uri": "https://localhost:8080/"
        },
        "id": "QQP_e8Dq-wJG",
        "outputId": "336e9791-31dc-4d32-8030-53a0fa1d9ac2"
      },
      "execution_count": 12,
      "outputs": [
        {
          "output_type": "stream",
          "name": "stdout",
          "text": [
            "Thermal energy of a particle at sun's sruface is 0.7671520157201405 eV.\n"
          ]
        }
      ]
    },
    {
      "cell_type": "markdown",
      "source": [
        "This is way less than the ionization energy of atomic hydrogen. This is also far less than the bond dissociation energy of hydrogen molecule. Therefore, on the surface of the sun, hydrogen will exists in molecular form."
      ],
      "metadata": {
        "id": "wevXDPa1_aet"
      }
    },
    {
      "cell_type": "markdown",
      "source": [
        "## Internal temperature\n",
        "\n",
        "The internal temperature of the sun can be estimated using the virial theorem. However, to do that, we first need to compute the gravitational potential energy of the sun. If the mass density of sun is $\\rho(r)$ then the potential energy of a shell of thickness $dr$ at a distance $r$ from the centre is\n",
        "\n",
        "\\begin{equation}\\tag{11}\n",
        "dU = -\\frac{GM(r)}{r} dm = -\\frac{GM(r)}{r} \\rho(r) 4\\pi r^2 dr.\n",
        "\\end{equation}\n",
        "\n",
        "If we simplify the analysis by choosing $\\rho = \\rho_\\odot$ throughout the sun's interior then we get\n",
        "\\begin{equation}\\tag{12}\n",
        "U = -\\frac{3}{5}\\frac{GM_\\odot^2}{R_\\odot}.\n",
        "\\end{equation}\n",
        "\n",
        "According to the virial theorem, the kinetic energy is\n",
        "\\begin{equation}\\tag{13}\n",
        "K = -\\frac{1}{2}U = \\frac{3}{10}\\frac{GM_\\odot^2}{R_\\odot}.\n",
        "\\end{equation}\n",
        "\n",
        "If there are $N$ particles in the sun, then the kinetic energy is\n",
        "\\begin{equation}\\tag{14}\n",
        "K = \\frac{3}{2}Nk_B T\n",
        "\\end{equation}\n",
        "\n",
        "From equations (13) and (14) we get\n",
        "\\begin{equation}\\tag{15}\n",
        "T = \\frac{GM_\\odot^2}{5R_\\odot Nk_B}.\n",
        "\\end{equation}\n",
        "\n",
        "We know the values of all variables on the right hand side except $N$. We can estimate it from the solar mass assuming that all of it is hydrogen. If $m_H$ denotes the mass of the hydrogen atom then\n",
        "\\begin{equation}\\tag{16}\n",
        "Nm_H = M_⊙\n",
        "\\end{equation}\n",
        "\n",
        "From (15) and (16) we get\n",
        "\\begin{equation}\\tag{17}\n",
        "T = \\frac{Gm_HM_\\odot}{5R_\\odot k_B}.\n",
        "\\end{equation}\n"
      ],
      "metadata": {
        "id": "0kHkIfgSC_kG"
      }
    },
    {
      "cell_type": "code",
      "source": [
        "T = G * m_H * M_s/(5 * R_s * k_B)\n",
        "print(f\"Interior temperature of the sun is {T.value * 1E-6} million K.\")"
      ],
      "metadata": {
        "colab": {
          "base_uri": "https://localhost:8080/"
        },
        "id": "2iJ7W3UBHjJx",
        "outputId": "9c9d0d63-b589-4bb9-cefd-8ddd1102d6c2"
      },
      "execution_count": 13,
      "outputs": [
        {
          "output_type": "stream",
          "name": "stdout",
          "text": [
            "Interior temperature of the sun is 4.357854262452997 million K.\n"
          ]
        }
      ]
    },
    {
      "cell_type": "markdown",
      "source": [
        "# Motion of a mass in a tunnel through the earth's centre\n",
        "\n",
        "Let a mass $m$ be dropped in a tunnel that passes through the earth's centre and open at the antipodal position. At a distance $r$ from the centre, it experiences the gravitational attraction only of the mass enclosed by a sphere\n",
        "of radius $r$, concentric with the earth. Thus, the equation of motion is\n",
        "\\begin{equation}\\tag{18}\n",
        "m\\ddot{r} = -\\frac{GM(r)m}{r^2}.\n",
        "\\end{equation}\n",
        "Since\n",
        "\\begin{equation}\\tag{19}\n",
        "M(r) = \\rho \\frac{4\\pi}{3}r^3,\n",
        "\\end{equation}\n",
        "the equation of motion becomes\n",
        "\\begin{equation}\\tag{20}\n",
        "\\ddot{r} = -\\frac{4\\pi}{3}\\rho G r.\n",
        "\\end{equation}\n",
        "The particle thus performs a simple harmonic motion with frequency,\n",
        "\\begin{equation}\\tag{21}\n",
        "\\omega = \\sqrt{\\frac{4\\pi}{3}\\rho G}.\n",
        "\\end{equation}"
      ],
      "metadata": {
        "id": "3tXiCJc17-Ww"
      }
    },
    {
      "cell_type": "code",
      "source": [
        "M_e = astropy.constants.M_earth.cgs\n",
        "R_e = astropy.constants.R_earth.cgs\n",
        "V_e = 4 * scipy.constants.pi * R_e**3/3\n",
        "rho_e = M_e/V_e\n",
        "\n",
        "omega = numpy.sqrt(4*scipy.constants.pi * rho_e * G/3)\n",
        "print(f\"Angular frequency of oscillations of the particle is {omega}\")"
      ],
      "metadata": {
        "colab": {
          "base_uri": "https://localhost:8080/"
        },
        "id": "MF2yPcX_9gyu",
        "outputId": "5460ba0b-3b58-4f92-a666-aa9835af2d18"
      },
      "execution_count": 14,
      "outputs": [
        {
          "output_type": "stream",
          "name": "stdout",
          "text": [
            "Angular frequency of oscillations of the particle is 0.0012394581825912545 1 / s\n"
          ]
        }
      ]
    },
    {
      "cell_type": "markdown",
      "source": [
        "# Diffusion of a photon from the centre of the sun\n",
        "\n",
        "The sun's centre has matter in plasma state. Electromagnetic radiation starting from the centre will be scattered by the charged particles of the plasma. It can be shown that the scattering is elastic in nature and has a cross section\n",
        "\\begin{equation}\\tag{22}\n",
        "\\sigma_T = \\frac{8\\pi}{3} r_c^2,\n",
        "\\end{equation}\n",
        "where\n",
        "\\begin{equation}\\tag{23}\n",
        "\\frac{e^2}{r_c} = m_ec^2\n",
        "\\end{equation}\n",
        "defines the classical electron radius $r_c$. If there are $n_e$ charged particles per unit volume then the mean free path is given by\n",
        "\\begin{equation}\\tag{24}\n",
        "l = \\frac{1}{n_e\\sigma_T}.\n",
        "\\end{equation}"
      ],
      "metadata": {
        "id": "h_Yz3KqmDkU_"
      }
    },
    {
      "cell_type": "code",
      "source": [
        "e = astropy.constants.e.esu\n",
        "r_c = e**2/(astropy.constants.m_e.cgs * c**2)\n",
        "sigma_T = 8*scipy.constants.pi * r_c**2/3\n",
        "print(f\"The classical electron radius is {r_c.value} cm.\")\n",
        "print(f\"Thomson scattering cross section is {sigma_T.value} cm^2.\")\n",
        "\n",
        "n_e = rho_s/m_H\n",
        "l = 1/(n_e * sigma_T)\n",
        "print(f\"Mean free path is {l}.\")"
      ],
      "metadata": {
        "id": "9A_j0E3fEkZS",
        "outputId": "043f58b3-b252-4dd6-8dde-292579f9d5ce",
        "colab": {
          "base_uri": "https://localhost:8080/"
        }
      },
      "execution_count": 22,
      "outputs": [
        {
          "output_type": "stream",
          "name": "stdout",
          "text": [
            "The classical electron radius is 2.817940324670788e-13 cm.\n",
            "Thomson scattering cross section is 6.652458724930067e-25 cm^2.\n",
            "Mean free path is 1.69408751926042 cm7 g2 / (Fr4 s4).\n"
          ]
        }
      ]
    },
    {
      "cell_type": "markdown",
      "source": [
        "The mean free path of a photon after taking into account the variation of density of matter in the sun is $l ≈ 0.5$ cm. If a photon takes $N$ steps at random with a mean free path of $l$ then the distance it travels in $N$ steps is\n",
        "\\begin{equation}\\tag{25}\n",
        "D = \\sqrt{N}\\langle l \\rangle.\n",
        "\\end{equation}\n",
        "Therefore, the number of steps needed to cover a distance equal to the radius of the sun is\n",
        "\\begin{equation}\\tag{26}\n",
        "N_{es} = \\frac{R_\\odot^2}{\\langle l \\rangle^2}.\n",
        "\\end{equation}\n",
        "Between two scattering events the photon travels at a speed $c$. The average between two such events is $\\langle l \\rangle/c$. Therefore, the time taken to cover $N_{es}$ is the time taken for a photon emerging at the centre to reach the surface of the sun is\n",
        "\\begin{equation}\\tag{27}\n",
        "\\tau_{es} = N_{es}\\frac{\\langle l \\rangle}{c}\n",
        "\\end{equation}\n",
        "From (26) and (27) we get\n",
        "\\begin{equation}\\tag{28}\n",
        "\\tau_{es} = \\frac{R_\\odot^2}{\\langle l \\rangle c}.\n",
        "\\end{equation}\n",
        "Assuming that the correct $\\langle l \\rangle \\approx 0.5$ cm, we estimate the time it takes for a photon starting at the centre of the sun to reach its surface."
      ],
      "metadata": {
        "id": "djm2mxnFGUx7"
      }
    },
    {
      "cell_type": "code",
      "source": [
        "tau_es = R_s**2/(0.5 * c)\n",
        "tau_es_yr = tau_es.value/T\n",
        "print(f\"Time take for a photon at centre to escape the sun is {tau_es_yr.value} years.\")"
      ],
      "metadata": {
        "id": "KzWX8dHMKWMg",
        "outputId": "a2ea09f7-2f4c-4ac0-ca9a-9a49fc33d062",
        "colab": {
          "base_uri": "https://localhost:8080/"
        }
      },
      "execution_count": 26,
      "outputs": [
        {
          "output_type": "stream",
          "name": "stdout",
          "text": [
            "Time take for a photon at centre to escape the sun is 66285.38588560485 years.\n"
          ]
        }
      ]
    }
  ]
}