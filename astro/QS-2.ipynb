{
 "cells": [
  {
   "cell_type": "raw",
   "id": "2f4c9de3-c8f5-41ea-8636-fbe8242a1674",
   "metadata": {},
   "source": [
    "---\n",
    "title: White Dwarfs\n",
    "author: Amey Joshi\n",
    "format: \n",
    "    revealjs:\n",
    "        theme: [default, custom.scss]\n",
    "        scrollable: true\n",
    "        smaller: true\n",
    "        slide-number: true\n",
    "code-fold: true\n",
    "execute:\n",
    "    echo: true\n",
    "---"
   ]
  },
  {
   "cell_type": "markdown",
   "id": "2bfb602e-bfef-4427-ac8d-b84512c64936",
   "metadata": {},
   "source": [
    "## A quick recap\n",
    "\n",
    "- White dwarves are\n",
    "    - White because of their high temperature and\n",
    "    - Dwarves because of their puny size\n",
    "- They have a very low luminosity.\n",
    "- They are quite massive. This, in view of their small size, makes them extremely dense.\n",
    "- In spite of no energy production and high temperature, the cannot cool and transform themselves from fully ionised plasma to a neutral fluid. This is Eddington's paradox."
   ]
  },
  {
   "cell_type": "markdown",
   "id": "13490139-e3e0-484b-abbb-b6f70e38bf58",
   "metadata": {},
   "source": [
    "## Eddington's paradox - 1\n",
    "\n",
    "- The electrostatic energy of a fully ionised atom of atomic number $Z$ and mass number $A$, per unit volume, is\n",
    "$$\n",
    "E_V \\approx -N\\frac{Z^2e^2}{r},\n",
    "$$\n",
    "where $r$ is the distance between the charges and $N$ is the number of atoms per unit volume. If $\\rho$ is its mass density then\n",
    "$$\n",
    "\\rho \\approx \\frac{Am_p}{r^3}\n",
    "$$\n",
    "so that\n",
    "$$\n",
    "E_V \\approx -N\\frac{Z^2e^2}{(Am_p)^{1/3}}\\rho^{1/3}.\n",
    "$$\n",
    "The mass of a unit volume is $\\rho = NAm_p$ so that we have\n",
    "$$\n",
    "E_V \\approx -\\frac{Z^2e^2}{(Am_p)^{4/3}}\\rho^{4/3} = -\\frac{e^2}{(2m_p)^{4/3}}Z^{2/3}\\rho^{4/3} = K_1 Z^{2/3}\\rho^{4/3},\n",
    "$$ \n",
    "where we used the fact that $A \\approx 2Z$. The constant $K_1 \\approx 4.60 \\times 10^{12}$."
   ]
  },
  {
   "cell_type": "markdown",
   "id": "41dec2ce-3629-4d45-b78b-3efcb8abce50",
   "metadata": {},
   "source": [
    "## Eddington's paradox - 2\n",
    "\n",
    "- Classical thermal energy of a particle at temperature $T$ is $3kT/2$. If there are $N$ such particles then the total energy is $N \\times (3kT)/2$ and the energy per unit volume is $$\\frac{E}{V} = \\frac{N}{V}\\frac{3KT}{2}$$.\n",
    "- The mass density is $\\rho = \\mu m_H N/V$, where $\\mu \\approx 2$ is the \"mean molecular weight\", $m_H$ is the mass of a hydrogen atom.  \n",
    "- Thus, $$E_K = \\frac{3}{2}\\frac{k}{m_H} \\frac{\\rho T}{\\mu} = K_2 \\times \\frac{\\rho T}{\\mu}$$, where the constant $K_2 \\approx 1.24 \\times 10^8$."
   ]
  },
  {
   "cell_type": "markdown",
   "id": "f5f9d2f7-a25a-4828-90e3-15d1b929b9f1",
   "metadata": {},
   "source": [
    "## Eddington's paradox - 3\n",
    "\n",
    "- A white dwarf can cool by expanding if $E_K > E_V$, that is $$K_2 \\rho \\frac{T}{\\mu} > K_1Z^{2/3}\\rho^{4/3} \\Rightarrow \\rho < \\left(\\frac{K_2}{K_1}\\frac{T}{Z^{2/3}\\mu}\\right)^3.$$\n",
    "- Assuming $T \\approx 10^4$ K, $Z \\approx 2$ for a predominantly Helium core and $\\mu \\approx 2$, we get $\\rho < 6.05 \\times 10^{-4}$ as the condition for thermal energy to suffice expansion. Given the extremely high density of white dwarf, this limit is breached by several orders of magnitude. "
   ]
  },
  {
   "cell_type": "code",
   "execution_count": 7,
   "id": "9d53cecc-3b41-45fe-bc0b-44fc323396d2",
   "metadata": {},
   "outputs": [
    {
     "name": "stdout",
     "output_type": "stream",
     "text": [
      "The constants K_1 and K_2 are 4.603780e+12, 1.236626e+08 respectively\n",
      "Their ratio is  2.686109e-05\n",
      "6.056491e-04\n"
     ]
    }
   ],
   "source": [
    "m_e = 9.1e-28 # mass of electron in g.\n",
    "m_p = 1.673e-24 # Mass of proton in g.\n",
    "k = 1.38e-16 # Boltzmann constant in erg/K\n",
    "T = 10000\n",
    "Z = 2\n",
    "mu = 2\n",
    "\n",
    "K1 = e**2/(2 * m_p)**(4/3)\n",
    "K2 = 3/2 * k * 1/(m_p + m_e)\n",
    "print(r\"The constants K_1 and K_2 are \" + f\"{K1:e}, {K2:e} respectively\")\n",
    "print(f\"Their ratio is {K2/K1: e}\")\n",
    "\n",
    "rhs = (K2 * T/(K1 * Z**(2/3) * mu))**3\n",
    "print(f\"{rhs:e}\")"
   ]
  },
  {
   "cell_type": "markdown",
   "id": "e65b3172-60ba-4b82-adbe-cf831806d9c2",
   "metadata": {},
   "source": [
    "## A brief recap of stellar structure\n",
    "\n",
    "- Stars are fuelled by nuclear reactions in which lighter nuclei fuse to form heavier ones.\n",
    "  - Coulomb barrier rises as square of the atomic number (charge). It takes an increasing amount of energy to fuse heavier nuclei.\n",
    "- The core starts contracting when energy production stops.\n",
    "  - The simplest picture of a star is a body in the hydrostatic equilibrium - pressure resists gravitational contraction.\n",
    "- Whether or not nuclei fuse depends on the temperature of the gas.\n",
    "  - Classical gases ($P = nkT$) get hotter as the pressure increases.\n",
    "  - Quantum gases ($P = Cn^{4/3}$) can be squeezed without heating.\n",
    "- How stars live their lives depends on whether their core remains classical or becomes degenerate.\n",
    "\n",
    "## Statistical mechanics of Fermions\n",
    "- Fermions are particles with half-integer spins. They have an anti-symmetric wave-function and obey Pauli exclusion principle.\n",
    "  - There can be at most two spin $1/2$ of opposite spins in an energy state.\n",
    "- Fermi energy, $E_F$, of a collection of fermions is the difference between highest occupied state and the lowest energy state at $0$ K. \n",
    "    - A collection of fermions behaves like a classical gas if $kT \\gg E_F$ and as a quantum gas if $kT \\le E_F$.\n",
    "- For identical, independent, non-relativistic, spin 1/2 particles,\n",
    "$$\n",
    "E_F = \\frac{\\hslash^2}{2m}(3\\pi^2 n)^{2/3},\n",
    "$$\n",
    "where $m$ is the mass of the particle and $n$ is the number density. The degeneracy pressure is\n",
    "$$\n",
    "P_d = \\frac{(3\\pi^2)^{2/3}\\hslash^2}{5m}n^{5/3}.\n",
    "$$\n",
    "- For the same $n$, Fermi-energy of nucleons is less than that of electrons. However, degeneracy pressure of electrons is much higher.\n",
    "- A white dwarf is supported by electron degeneracy pressure.\n",
    "\n",
    "## Birth of a white dwarf\n",
    "\n",
    "- Stars produce He from H in the first stage of their evolution. It takes a lot more energy to fuse He. Since it is not yet available, a core of inert He is formed in the star.\n",
    "- The size of the core keeps increasing as the star ages. As the core cannot produce energy, it collapses under its own gravity. When the core collapses, the envelope expands creating a red giant.\n",
    "- As the core contracts, the number density $n$ increases and with it $E_F$. Eventually $E_F$ will surpass $kT$ and the core will become degenerate. A degenerate core can contract without heating.\n",
    "- For stars of masses around and above $M_\\odot$, the periphery of the core continues to supply heat to the core and triggers He fusion. The core starts expanding as it generates heat leading to a contraction of the envelope.\n",
    "- He fusion leads to formation of an inert C and O core. Once again the core contracts, the envelope expands and creates a red super-giant. It is pulsationally unstable and results in the ejection of planetary nebula.\n",
    "- The degenerate C and O core if the white dwarf.\n",
    "\n",
    "## Physical properties of a white dwarf\n",
    "\n",
    "- When the stellar material is a classical gas, the electrons tend to have lower momenta than the nucleons. As a result, they are squeezed in a smaller region of the phase space than the nucleons. The electron gas thus becomes degenerate sooner than the nucleon gas.\n",
    "    - In a C and O core the number of electrons exceeds the number of nucleons. Therefore, the Fermi energy of the electron gas is less than that of nucleon gas. That is another way to understand why white dwarves are supported by electron degeneracy pressure.\n",
    "- Degeneracy pressure can be understood as a consequence of large momentum of fermions on higher energy states even at absolute zero.\n",
    "- Photons cannot be effectively scattered by degenerate electrons. This is due to the non-availability of vacant states in degenerate matter. As a result, white dwarves have very low opacity and the radiative heat transfer is low.\n",
    "- A large density of electrons makes the core of a white dwarf an excellent thermal and electrical conductor. It is often considered to be isothermal.\n",
    "\n",
    "## Physical properties of a white dwarf\n",
    "\n",
    "- When a white dwarf is formed, its core is at a temperature of $O(10^7)$K. If the mass is of the order of $1\\;M_\\odot$ then the total thermal energy is of $O(10^{40})$ J. The details of this rough calculations are:\n",
    "    - Mass of C$^{12}$ nucleus is $\\approx 2 \\times 10^{-26}$ kg.\n",
    "    - One solar mass is $\\approx 2 \\times 10^{30}$ kg. Therefore, there are $\\approx 10^{56}$ C$^{12}$ nuclei.\n",
    "    - The nucleons continue to be a classical gas with a heat capacity of $3/2\\;k$ per nucleus. This gives a total heat capacity of the order of $10^{33}$ J/K. (Recall that $k = 1.38 \\times 10^{-23}$ J/K).\n",
    "    - At a temperature of $10^7$ K, the heat capacity gives the heat content to be $10^{40}$J.\n",
    "- The heat in the core is trapped in the star by a non-degenerate, insulating shell of the star. The shell loses heat via radiative diffusion, like a black body.\n",
    "- The slow rate of diffusion results in white dwarves shining for a very long period.\n",
    "\n",
    "## Physical properties of a white dwarf\n",
    "\n",
    "- As the core cools, it is thought to crystallise. It creates body-centred cubic crystals like many metals.\n",
    "- Formation of crystals traps additional heat. The heat capacity per ion doubles to $3k_B$. It also results in the release of \"heat of crystallisation\", further elongating the period over which the star shines.\n",
    "- When the white dwarf was born, its core had a temperature of $10^7$ K and the envelope was at $10^5$K. It takes billions of years for the envelope to cool down to $10^4$K. As a result, for much of their existence, the white dwarves appear white or even bluish white.\n",
    "- It will take more than the age of the universe for white dwarves to cool to the temperature of the cosmic microwave background.\n",
    "- The intense gravitational field of the white dwarf results in the heavy nuclei populating the centre and the envelope consisting of H and He. This is why the spectra of white dwarves show prominent H lines.\n",
    "- Chandrasekhar proved in the 1930s that if the mass of the star exceeds a certain limit, the electron degeneracy pressure cannot prevent the collapse of the core. This limit is the maximum mass of a white dwarf. "
   ]
  }
 ],
 "metadata": {
  "kernelspec": {
   "display_name": "Python 3 (ipykernel)",
   "language": "python",
   "name": "python3"
  },
  "language_info": {
   "codemirror_mode": {
    "name": "ipython",
    "version": 3
   },
   "file_extension": ".py",
   "mimetype": "text/x-python",
   "name": "python",
   "nbconvert_exporter": "python",
   "pygments_lexer": "ipython3",
   "version": "3.12.3"
  }
 },
 "nbformat": 4,
 "nbformat_minor": 5
}
