{
  "nbformat": 4,
  "nbformat_minor": 0,
  "metadata": {
    "colab": {
      "provenance": [],
      "authorship_tag": "ABX9TyMU+eupaPnQFtHflDT0/O3R",
      "include_colab_link": true
    },
    "kernelspec": {
      "name": "python3",
      "display_name": "Python 3"
    },
    "language_info": {
      "name": "python"
    }
  },
  "cells": [
    {
      "cell_type": "markdown",
      "metadata": {
        "id": "view-in-github",
        "colab_type": "text"
      },
      "source": [
        "<a href=\"https://colab.research.google.com/github/drameyjoshi/physics/blob/main/astro/course/radiative_transfer.ipynb\" target=\"_parent\"><img src=\"https://colab.research.google.com/assets/colab-badge.svg\" alt=\"Open In Colab\"/></a>"
      ]
    },
    {
      "cell_type": "markdown",
      "source": [
        "The solar spectrum shows absorption lines when seen at the disc but emission lines when seen at the limb. We want to know why this is so. But before we get there we need to develop the basic theory of radiative transfer.\n",
        "\n",
        "# Basic definitions\n",
        "## Energy flux\n",
        "Consider an area $dA$ on which radiation is incident, say from one side, for a time $dt$. An amount of ratiation $d^2E$ emerging from the other side is proportional to $dA$ and $dt$. Thus,\n",
        "\\begin{equation}\\tag{1}\n",
        "d^2E ∝ dAdt,\n",
        "\\end{equation}\n",
        "or\n",
        "\\begin{equation}\\tag{2}\n",
        "d^2E = F dAdt,\n",
        "\\end{equation}\n",
        "where the constant of proportionality $F_\\nu$ is called the flux of radiation and it has units erg s$^{-1}$ cm$^{-2}$. One can as well write equation (2) as\n",
        "\\begin{equation}\\tag{3}\n",
        "d\\left(\\frac{dE}{dt}\\right) = d\\dot{E} = FdA.\n",
        "\\end{equation}\n",
        "\n",
        "One can interpret this equation in more familiar situations. If we were measuring charges instead of energy, we would have written equation (3) as\n",
        "\\begin{equation}\\tag{4}\n",
        "d\\left(\\frac{dq}{dt}\\right) = d\\dot{q} = dI = jdA = \\vec{j}\\cdot\\hat{n}dA,\n",
        "\\end{equation}\n",
        "so that the total current passing through an area $A$ is\n",
        "\\begin{equation}\\tag{5}\n",
        "I = \\int \\vec{j}\\cdot\\hat{n}dA,\n",
        "\\end{equation}\n",
        "\n",
        "This is how $F$ is defined in a book like _Radiative Processes in Astrophysics by GB Rybicki and AP Lightman_. However, I find the symbol $d^2E$ a little obscure and using $dE$ (if one were to follow the book) instead mathematically incorrect. I think a better way to define the energy flux is\n",
        "\\begin{equation}\\tag{6}\n",
        "F = \\frac{\\partial^2 E}{\\partial A \\partial t}.\n",
        "\\end{equation}"
      ],
      "metadata": {
        "id": "FwHDIC0bB2va"
      }
    },
    {
      "cell_type": "markdown",
      "source": [
        "## Specific intensity (Brightness)\n",
        "In astronomical situations radiation is composed of a wide range of frequencies and we are interested in knowing how much of it travels in a certain direction. The quantity of interest is the specific intensity, also called the brightness, defined as\n",
        "\\begin{equation}\\tag{7}\n",
        "I_\\nu = \\frac{\\partial^4 E}{\\partial A\\partial t\\partial\\nu\\partial\\Omega}.\n",
        "\\end{equation}\n",
        "The unit of $I_\\nu$ is erg cm$^{-2}$ s$^{-1}$ Hz$^{-1}$ str$^{-1}$ although the dimensions are equivalent to a quantity with unit erg cm$^{-2}$. This is because steradian is dimensionless and so is the product of time and frequency.\n",
        "Note that $E$ is proportional to $A$ and $t$, that is, it is a linear function of $A$ and $t$. Therefore the partial derivative of $E$ with respect to these quantities will be independent of them. As a result, $I_\\nu$ is a function of $\\nu$ and $\\Omega$. We can write equation (7) as\n",
        "\\begin{equation}\\tag{7}\n",
        "I_\\nu(\\nu, \\Omega) = \\frac{\\partial^4 E}{\\partial A\\partial t\\partial\\nu\\partial\\Omega}.\n",
        "\\end{equation}\n",
        "If we integrate equation (7) with respect to $\\nu$ and $\\Omega$ to get\n",
        "\\begin{equation}\\tag{8}\n",
        "F = \\iint I_\\nu(\\nu, \\Omega) d\\nu d\\Omega = \\frac{\\partial^2 E}{\\partial A\\partial t}.\n",
        "\\end{equation}\n",
        "Since we integrated with respect to $\\nu$ and $\\Omega$, the unit of $F_\\nu$ is erg cm$^{-2}$ s$^{-1}$.\n",
        "While writing equation (8) we assumed that the direction of radiation is perpendicular to the area through which it is passing. If it were not then we would write\n",
        "\\begin{equation}\\tag{9}\n",
        "F = \\iint I_\\nu(\\nu, \\Omega) \\cos\\theta d\\nu d\\Omega\n",
        "\\end{equation}\n",
        "where $\\theta$ is the angle between the direction of radiation and the normal to the area element. It is sometimes useful to define\n",
        "\\begin{equation}\\tag{9a}\n",
        "F_\\nu = \\int I_\\nu(\\nu, \\Omega)\\cos\\theta d\\Omega\n",
        "\\end{equation}\n",
        "so that\n",
        "\\begin{equation}\\tag{9b}\n",
        "F = \\int F_\\nu d\\nu.\n",
        "\\end{equation}\n",
        "\n",
        "If $I_\\nu$ is isotropic, that is, independent of $\\theta$ then\n",
        "\\begin{equation}\\tag{10}\n",
        "F = \\int d\\nu I_\\nu 2\\pi \\int_0^\\pi d\\theta\\cos\\theta\\sin\\theta  = 2\\pi \\int d\\nu I_\\nu \\int_0^\\pi d(\\sin\\theta) = 0.\n",
        "\\end{equation}\n",
        "This result is not surprising. As much radiation passes in one direction as it does in exactly the opposite direction so that the net is zero and this is true for all directions.\n",
        "\n",
        "For a photon, the relation between energy and momentum is $E = pc$. Therefore, the momentum flux in the case of a radiation travelling perpendicular to the area is, following equation (8),\n",
        "\\begin{equation}\\tag{11}\n",
        "p = \\iint \\frac{I_\\nu(\\nu, \\Omega)}{c} d\\nu d\\Omega\n",
        "\\end{equation}\n",
        "Analogous to equations (9a) and (9b) one may define\n",
        "\\begin{eqnarray}\n",
        "p_\\nu &=& \\int \\frac{I_\\nu(\\nu, \\Omega)}{c} d\\Omega \\tag{11a} \\\\\n",
        "p &=& \\int p_\\nu d\\nu \\tag{11b}\n",
        "\\end{eqnarray}\n",
        "If the direction of propagation is at an angle $\\theta$ to the area element then the area differential $dA$ is replaced by $\\cos\\theta dA$ and the component of momentum in the direction perpendicular to $dA$ is $p\\cos\\theta$.\n",
        "Therefore, equation analogous to equation (10) becomes\n",
        "\\begin{equation}\\tag{12}\n",
        "p = \\iint \\frac{I_\\nu(\\nu, \\Omega)}{c} \\cos^2\\theta d\\nu d\\Omega\n",
        "\\end{equation}\n",
        "If the radiation is isotropic,\n",
        "\\begin{equation}\\tag{13}\n",
        "p = \\int d\\nu \\frac{I_\\nu(\\nu)}{c} \\int  \\cos^2\\theta d\\Omega = 2\\pi \\int d\\nu \\frac{I_\\nu(\\nu)}{c} \\int_0^\\pi \\cos^2\\theta d\\theta =\n",
        "\\frac{4\\pi}{3}\\int d\\nu \\frac{I_\\nu(\\nu)}{c}\n",
        "\\end{equation}\n",
        "The unit of $p_\\nu$ is that of $F_\\nu/c$ that is dynes cm$^{-2}$. Momentum flux has the same units are pressure. This is true in kinetic theory of gases, fluid dynamics and the theory of radiation.\n",
        "\n",
        "Finally, brightness aggregated over all frequencies is\n",
        "\\begin{equation}\\tag{14}\n",
        "I = \\int I_\\nu d\\nu.\n",
        "\\end{equation}\n",
        "It has the unit erg cm$^{-2}$ s$^{-1}$ str$^{-1}$.\n"
      ],
      "metadata": {
        "id": "qBSII-zzQt3j"
      }
    },
    {
      "cell_type": "markdown",
      "source": [
        "## Energy density\n",
        "Consider isotropic radiation in an enclosure. When radiation is reflected from the walls of the enclosure, it imparts momentum twice as much given by equation (13) but the integration is over the half space. This is because for the radiation in an enclosure there is no momentum flowing from the other half.  Thus, in this case, we have\n",
        "\\begin{equation}\\tag{14}\n",
        "p = 2 \\times 2\\pi \\int d\\nu \\frac{I_\\nu(\\nu)}{c} \\int_0^{\\pi/2} \\cos^2\\theta d\\theta =\n",
        "\\frac{4\\pi}{3}\\frac{1}{c}\\int d\\nu I_\\nu(\\nu).\n",
        "\\end{equation}\n",
        "The quantity,\n",
        "\\begin{equation}\\tag{15}\n",
        "u = \\frac{4\\pi}{c}\\int I_\\nu(\\nu)dν\n",
        "\\end{equation}\n",
        "is called the energy density of the radiation in the cavity. We therefore have\n",
        "\\begin{equation}\\tag{16}\n",
        "p = \\frac{1}{3}u,\n",
        "\\end{equation}\n",
        "a relation that can be derived in several ways.\n"
      ],
      "metadata": {
        "id": "e-PMUGn63uD7"
      }
    },
    {
      "cell_type": "markdown",
      "source": [
        "## Monochromatic emission coefficient\n",
        "\n",
        "The monochromatic emission coefficient is defined as\n",
        "\\begin{equation}\\tag{17}\n",
        "j_\\nu = \\frac{\\partial^4 E}{\\partial V \\partial \\Omega \\partial t \\partial \\nu}.\n",
        "\\end{equation}\n",
        "while the aggregated emission coefficient is\n",
        "\\begin{equation}\\tag{17a}\n",
        "j = \\int j_\\nu d\\nu = \\frac{\\partial^3 E}{\\partial V \\partial \\Omega \\partial t}.\n",
        "\\end{equation}\n",
        "Here $V$ stands for volume. The unit of $j_\\nu$ is erg cm$^{-3}$ s$^{-1}$ Hz$^{-1}$ str$^{-1}$ while that of $j$ is erg cm$^{-3}$ s$^{-1}$ str$^{-1}$. For an isotropic emitter like an isolated star, one often writes\n",
        "\\begin{equation}\\tag{18}\n",
        "j_\\nu = \\frac{1}{4\\pi}P_\\nu,\n",
        "\\end{equation}\n",
        "where $P_\\nu$ is the power emitted per unit volume per unit frequency. The term emissivity is defined as\n",
        "\\begin{equation}\\tag{19}\n",
        "\\epsilon_\\nu = \\frac{P_\\nu}{\\rho},\n",
        "\\end{equation}\n",
        "where $\\rho$ is the mass density of the emitter.\n",
        "\n",
        "From equations (7) and (17)\n",
        "\\begin{equation}\\tag{7a}\n",
        "\\int I_\\nu dA = \\frac{\\partial^3 E}{\\partial \\nu \\partial \\Omega \\partial t}.\n",
        "\\end{equation}\n",
        "and\n",
        "\\begin{equation}\\tag{17a}\n",
        "\\int j_\\nu dV = \\frac{\\partial^3 E}{\\partial \\nu \\partial \\Omega \\partial t}.\n",
        "\\end{equation}\n",
        "so that\n",
        "\\begin{equation}\\tag{18}\n",
        "\\int I_\\nu dA = \\int j_\\nu dV.\n",
        "\\end{equation}\n",
        "Since\n",
        "\\begin{equation}\\tag{19}\n",
        "\\frac{d}{dx}\\int dx f(x) = f(x),\n",
        "\\end{equation}\n",
        "we can write the lhs of equation (18) as\n",
        "\\begin{equation}\\tag{20}\n",
        "\\frac{d}{ds}\\int ds \\int I_\\nu dA = \\int j_\\nu dV \\Rightarrow \\int \\frac{dI_\\nu}{ds} dV = \\int j_\\nu dV,\n",
        "\\end{equation}\n",
        "from which it immediately follows that\n",
        "\\begin{equation}\\tag{21}\n",
        "\\frac{dI_\\nu}{ds} = j_\\nu.\n",
        "\\end{equation}\n",
        "$dI_\\nu = j_\\nu ds$ suggests that $j_\\nu ds$ is the specific intensity added by a material of width $ds$ to radiation of intensity $I_\\nu$ incident on it.\n"
      ],
      "metadata": {
        "id": "5fREQ4zkwhAG"
      }
    },
    {
      "cell_type": "markdown",
      "source": [
        "## Monochromatic absorption coefficient\n",
        "When radiation of specific intensity $I_\\nu$ passes through a medium a portion of it is absorbed by it. The monochromatic absorption coefficient is defined by the relation,\n",
        "\\begin{equation}\\tag{22}\n",
        "\\frac{dI_\\nu}{ds} = -\\alpha_\\nu I_\\nu.\n",
        "\\end{equation}\n",
        "This is a phenomenological law. A quantity related to $\\alpha_\\nu$ is the medium's opacity defined as\n",
        "\\begin{equation}\\tag{23}\n",
        "\\kappa_\\nu = \\frac{\\alpha_\\nu}{\\rho},\n",
        "\\end{equation}\n",
        "where $\\rho$ is the mass density of the medium.\n",
        "\n",
        "The unit of $\\alpha_\\nu$ is cm$^{-1}$.\n",
        "\n",
        "The optical depth of a medium is defined as\n",
        "\\begin{equation}\\tag{24}\n",
        "\\tau_\\nu(s) = \\int_{s_0}^s \\alpha_\\nu(s)ds.\n",
        "\\end{equation}\n",
        "A medium if optically thick if $\\tau_\\nu(s)$ is a large number for a given $s$. It is said to be optically thin if $\\tau_\\nu(s)$ is a small number for a given $s$. Equation (24) can be written in an equivalent form\n",
        "\\begin{equation}\\tag{24a}\n",
        "\\frac{d\\tau_\\nu}{ds} = \\alpha_\\nu \\Rightarrow d\\tau_nu = \\alpha_nu ds.\n",
        "\\end{equation}"
      ],
      "metadata": {
        "id": "-pdDT2-42a1x"
      }
    },
    {
      "cell_type": "markdown",
      "source": [
        "# Radiative transfer equation\n",
        "A medium always absorbs and emits radiation. Therefore, the change in specific intensity of the radiation is given by equations (21) and (22) put together.\n",
        "\\begin{equation}\\tag{25}\n",
        "\\frac{dI_\\nu}{ds} = j_\\nu - \\alpha_\\nu I_\\nu,\n",
        "\\end{equation}\n",
        "is called the _radiative transfer equation_. We can express the derivative as\n",
        "\\begin{equation}\\tag{27}\n",
        "\\frac{dI_\\nu}{d\\tau_\\nu}\\frac{d\\tau_\\nu}{ds} = j_\\nu - \\alpha_\\nu I_\\nu ⇒\n",
        "\\frac{dI_\\nu}{d\\tau_\\nu}\\alpha_\\nu = j_\\nu - \\alpha_\\nu I_\\nu ⇒\\frac{dI_\\nu}{d\\tau_\\nu} = \\frac{j_\\nu}{\\alpha_\\nu} -  I_\\nu.\n",
        "\\end{equation}\n",
        "We define\n",
        "\\begin{equation}\\tag{28}\n",
        "S_\\nu = \\frac{j_\\nu}{\\alpha_\\nu}\n",
        "\\end{equation}\n",
        "so that equation (27) can be written as\n",
        "\\begin{equation}\\tag{29}\n",
        "\\frac{dI_\\nu}{d\\tau_\\nu} = -(I_\\nu - S_\\nu),\n",
        "\\end{equation}\n",
        "$S_\\nu$ is called the source function. It is a ratio of the medium's monochromatic emission coefficient and its monochromatic absorption coefficient. It is independent of the optical depth. Equation (29) can be readily integrated to\n",
        "\\begin{equation}\\tag{30}\n",
        "I_\\nu(\\tau_\\nu) = I_\\nu(0)e^{-\\tau_\\nu} + S_\\nu(1 - e^{-\\tau_\\nu}).\n",
        "\\end{equation}\n",
        "The specific intensity of a medium at an optical depth of $\\tau_\\nu$ is a sum of two parts. The first part is the attenuation of the incident radiation while the second one is the net contribution of the medium's emission after taking into account its self-absorption."
      ],
      "metadata": {
        "id": "pU1VCniA4FW-"
      }
    },
    {
      "cell_type": "markdown",
      "source": [
        "### Special cases of equation (30)\n",
        "If the medium is optically thick, that is $\\tau_\\nu$ is very large then\n",
        "\\begin{equation}\\tag{31}\n",
        "I_\\nu(\\tau_\\nu) ≈ S_\\nu.\n",
        "\\end{equation}\n",
        "Thus the incident radiation is irrelvant. If the medium is optically thin, that is $\\tau_\\nu$ is very small,\n",
        "\\begin{equation}\\tag{32}\n",
        "I_\\nu(\\tau_\\nu) = (1 - \\tau_\\nu)I_\\nu(0) + \\tau_\\nu S_\\nu = I_\\nu(0) + \\tau_\\nu(S_\\nu - I_\\nu(0)).\n",
        "\\end{equation}\n",
        "\n",
        "If $I_\\nu(0) = 0$, that is, there is no incident radiation and that the medium is emitting on its own, then if it is optically thick, equation(31) continues to hold good. On the other hand, if it is optically thin then equation (32) becomes\n",
        "\\begin{equation}\\tag{33}\n",
        "I_\\nu(\\tau_\\nu) = \\tau_\\nu S_\\nu.\n",
        "\\end{equation}\n",
        "Thus, in absence of incident radiation, the medium shines as if it were a black body if it is optically thick. If it is optically thin, it shines like a black body but the intensity is attenuated by a factor of $\\tau_nu$. (Remember that for an optically thin medium, $\\tau_\\nu$ is a small number.)\n"
      ],
      "metadata": {
        "id": "CsrTYWffPNuj"
      }
    },
    {
      "cell_type": "markdown",
      "source": [
        "# The solar spectrum\n",
        "The solar atmosphere is optically thin. We we observe the limb, there is no background radiation and we have\n",
        "\\begin{equation}\\tag{34}\n",
        "I_\\nu(\\tau_\\nu) = \\tau_\\nu S_\\nu.\n",
        "\\end{equation}\n",
        "Therefore, the observed intensity is what is emitted by the solar atmosphere but attenuated by a factor of $\\tau_\\nu$.\n",
        "\n",
        "When we observe the disc, there is intense background radiation and we have\n",
        "\\begin{equation}\\tag{35}\n",
        "I_\\nu(\\tau_\\nu) = I_\\nu(0) + \\tau_\\nu(S_\\nu - I_\\nu(0)) = (1 - \\tau_\\nu)I_\\nu(0) + \\tau_\\nu S_\\nu.\n",
        "\\end{equation}\n",
        "Since $\\tau_\\nu$ is very small, the second term is usually irrelvant and what we see is just the background radiation. The background radiation does show absorption spectrum because the elements in the solar atmosphere absord certain frequencies and they also emit them. Their emission does not count when looked at the di.sc. It does when one looks at the limb because there is nothing else present.\n",
        "\n",
        "I suppose this explanation did not require equation of radiative transfer.\n"
      ],
      "metadata": {
        "id": "aoHj-PrUVhqj"
      }
    },
    {
      "cell_type": "markdown",
      "source": [
        "# Problems\n",
        "## Estimate the energy received by earth per unit area per unit time\n",
        "\n",
        "We use the solar luminosity $L_\\odot$ and the radius $R$ of the earth from the sun. We also assume that earth moves in a circular orbit with sun at its centre.\n",
        "The solid angle subtended at the sun by an area $A$ on the earth is\n",
        "\\begin{equation}\\tag{36}\n",
        "\\Omega_e = \\frac{A}{R^2}.\n",
        "\\end{equation}\n",
        "$L_\\odot$ is the energy emitted per unit time over all $4\\pi$ steradians. Energy emitted into $\\Omega_e$ is\n",
        "\\begin{equation}\\tag{37}\n",
        "\\mathcal{E} = \\frac{\\Omega_e}{4\\pi}L_\\odot = \\frac{A}{4\\pi R^2}L_\\odot.\n",
        "\\end{equation}\n",
        "We evaluate it in the next cell."
      ],
      "metadata": {
        "id": "IylhfoOieYez"
      }
    },
    {
      "cell_type": "code",
      "source": [
        "import astropy.constants\n",
        "import numpy\n",
        "import scipy.constants"
      ],
      "metadata": {
        "id": "mydbmt0hf4NR"
      },
      "execution_count": 3,
      "outputs": []
    },
    {
      "cell_type": "code",
      "source": [
        "A = 1 * astropy.units.cm * astropy.units.cm  # unit area in cgs\n",
        "R = 8 * 60 * astropy.constants.c.cgs * astropy.units.s\n",
        "L = astropy.constants.L_sun.cgs\n",
        "\n",
        "solar_power = A * L /(4 * scipy.constants.pi * R**2)\n",
        "print(\"Solar power received per square centimetre is {:e}.\".format(solar_power))\n",
        "print(\"Solar power received per square metre is {:e}.\".format(solar_power * 1E4))"
      ],
      "metadata": {
        "colab": {
          "base_uri": "https://localhost:8080/"
        },
        "id": "RlgCuugwf_xr",
        "outputId": "5425783e-5556-4a86-e49d-6013fa78ced6"
      },
      "execution_count": 24,
      "outputs": [
        {
          "output_type": "stream",
          "name": "stdout",
          "text": [
            "Solar power received per square centimetre is 1.471086e+06 erg / s.\n",
            "Solar power received per square metre is 1.471086e+10 erg / s.\n"
          ]
        }
      ]
    },
    {
      "cell_type": "markdown",
      "source": [
        "The correct answer is $1.361 \\times 10^3$ Wm$^{-2}$, which is $1.361 \\times 10^6$ erg cm$^{-2}$ s$^{-1}$.\n",
        "\n",
        "## If the moon were as hot as the sun.\n",
        "Let $P$ be the power emitted by the sun per unit area. If $R_\\odot$ is the solar radius then $L_\\odot = 4\\pi R_\\odot^2 P$. Likewise, if $R_m$ is the moon's radius then $L_m = 4\\pi R_m^2 P$. If the moon is at hot as the sun then it will emit same power per unit area as the sun. If $r_s$ and $r_m$ are the distances of the earth from the sun and the moon, the solar and lunar constants are\n",
        "\\begin{eqnarray}\n",
        "K_s &=& \\frac{1}{4\\pi r_s^2}L_\\odot \\tag{38} \\\\\n",
        "K_m &=& \\frac{1}{4\\pi r_m^2}L_m \\tag{39}\n",
        "\\end{eqnarray}\n",
        "\n",
        "Now,\n",
        "\\begin{equation}\\tag{40}\n",
        "P = \\frac{L_\\odot}{4\\pi R_\\odot^2}\n",
        "\\end{equation}\n",
        "so that\n",
        "\\begin{equation}\\tag{41}\n",
        "L_m = L_\\odot \\frac{R_m^2}{R_\\odot^2}\n",
        "\\end{equation}\n",
        "and hence\n",
        "\\begin{equation}\\tag{43}\n",
        "K_m = \\frac{1}{4\\pi r_m^2}L_\\odot \\frac{R_m^2}{R_\\odot^2}\n",
        "\\end{equation}"
      ],
      "metadata": {
        "id": "RIHRTNa2lmec"
      }
    },
    {
      "cell_type": "code",
      "source": [
        "r_m = 3.84 * 1E5 * 1E3 * 1E2 # In cm\n",
        "R_m = 1.7374 * 1E3 * 1E3 * 1E2 # In cm\n",
        "R_s = astropy.constants.R_sun.cgs\n",
        "\n",
        "lunar_power = L * R_m**2 /(4 * scipy.constants.pi * r_m**2 * R_s**2)"
      ],
      "metadata": {
        "id": "L1ogV89BoMSY"
      },
      "execution_count": 29,
      "outputs": []
    },
    {
      "cell_type": "code",
      "source": [
        "print(\"Lunar constant is {:e}.\".format(lunar_power))\n",
        "print(\"Ratio of solar and lunar constants id {:e}.\".format(solar_power/lunar_power))"
      ],
      "metadata": {
        "colab": {
          "base_uri": "https://localhost:8080/"
        },
        "id": "41VQvd1ioMud",
        "outputId": "1798e59d-ab55-47d5-94c9-118b68df0411"
      },
      "execution_count": 30,
      "outputs": [
        {
          "output_type": "stream",
          "name": "stdout",
          "text": [
            "Lunar constant is 1.288413e+06 erg / (cm2 s).\n",
            "Ratio of solar and lunar constants id 1.141781e+00 cm2.\n"
          ]
        }
      ]
    },
    {
      "cell_type": "markdown",
      "source": [
        "If moon were the only hot body in the vicinity, the earth would be a tad cooler than now. Otherwise, it will receive almost double the energy it receives today per unit time per unit area.\n",
        "\n",
        "## Thomson scattering\n",
        "\n",
        "Consider two gaseous regions A and B of the following nature.\n",
        "- A and B are both comprised of ionised Hydrogen but A has higher density,\n",
        "\n",
        "A will be optically thicker because it has greater density of scatters.\n",
        "\n",
        "- A is made up on ionised Hydrogen and B is made up of fully ionised Helium, but both have the same density. In each case, determine which region would be optically thicker.\n",
        "\n",
        "B will be optically thicker because for each electron of H ion there are two from a fully ionised He ion."
      ],
      "metadata": {
        "id": "0UmAYvfNpFyx"
      }
    }
  ]
}