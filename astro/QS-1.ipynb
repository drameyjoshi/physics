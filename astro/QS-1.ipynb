{
 "cells": [
  {
   "cell_type": "raw",
   "id": "abc430dd-c7f5-438c-aa4c-d92a6a76ccde",
   "metadata": {},
   "source": [
    "---\n",
    "title: A Strange Kind of a Star\n",
    "author: Amey Joshi\n",
    "format: \n",
    "    revealjs:\n",
    "        theme: [default, custom.scss]\n",
    "        scrollable: true\n",
    "        smaller: true\n",
    "        slide-number: true\n",
    "code-fold: true\n",
    "execute:\n",
    "    echo: true\n",
    "---"
   ]
  },
  {
   "cell_type": "raw",
   "id": "3ae1d4a4-56cd-4bb9-b95d-4217e4a501cf",
   "metadata": {},
   "source": [
    "## First hint of strangeness\n",
    "\n",
    "- Friedrich Wilhelm Bessel discovered irregularities in the path of [Sirius](https://earthsky.org/constellations/canis-major-the-greater-dog-sirius/), the brightest star in the sky. \n",
    "- He suspected that Sirius is a part of a binary system but could not spot its companion.\n",
    "- The parallax of Sirius was measured to be $0.38''$. \n",
    "- It allows us to estimate the distance from the sun."
   ]
  },
  {
   "cell_type": "code",
   "execution_count": 14,
   "id": "cec5e09e-c9e1-4e4b-a32e-47fad0eed2ad",
   "metadata": {},
   "outputs": [
    {
     "name": "stdout",
     "output_type": "stream",
     "text": [
      "Sirius is at a distance of 542802 AU from the sun.\n"
     ]
    }
   ],
   "source": [
    "import numpy as np\n",
    "import scipy.constants as sc\n",
    "\n",
    "parallax_s = 0.38 # in seconds\n",
    "parallax_d = parallax_s/3600 # in degrees\n",
    "parallax_r = parallax_d * np.pi/180 # in radians\n",
    "\n",
    "distance_au = 1/parallax_r\n",
    "print(f'Sirius is at a distance of {distance_au:.0f} AU from the sun.')"
   ]
  },
  {
   "cell_type": "raw",
   "id": "f016175e-cf06-4cb9-94dc-7a346f290c0f",
   "metadata": {},
   "source": [
    "## A companion is found\n",
    "\n",
    "- Alvan Clark Jr accidentally discovered a faint companion to Sirius when he was testing a new lens produced by his father’s company.\n",
    "- Absolute visual magnitude of the companion, now called Sirius B but Eddington called is Sirius _coms_, is $11.18$.\n",
    "- The original Sirius, now called Sirius A, has an absolute visual magnitude of $1.43$. This allows us to compare their brightness using the formula\n",
    "$$\n",
    "m_1 - m_2 = \\frac{5}{2}\\log_{10}\\left(\\frac{F_1}{F_2}\\right)\n",
    "$$"
   ]
  },
  {
   "cell_type": "code",
   "execution_count": 5,
   "id": "3029bc9f-8fb9-4452-9f90-2c3e85270703",
   "metadata": {},
   "outputs": [
    {
     "name": "stdout",
     "output_type": "stream",
     "text": [
      "Sirius A is 7943.28 times brighter than Sirius B.\n"
     ]
    }
   ],
   "source": [
    "mA = 1.43\n",
    "mB = 11.18\n",
    "x = 1/10**(2 * (mA - mB)/5)\n",
    "print(f'Sirius A is {x:0.2f} times brighter than Sirius B.')"
   ]
  },
  {
   "cell_type": "raw",
   "id": "e353509b-c769-42b2-82da-1298949830f9",
   "metadata": {},
   "source": [
    "## Comparison with the sun\n",
    "\n",
    "- Let us compare the brightness of these stars with that of the sun."
   ]
  },
  {
   "cell_type": "code",
   "execution_count": 7,
   "id": "cd0274e0-2f79-4015-9bbe-5810d065b1dd",
   "metadata": {},
   "outputs": [
    {
     "name": "stdout",
     "output_type": "stream",
     "text": [
      "Sirius A is 22.91 times brighter than the sun.\n",
      "The sun is is 346.74 times brighter than Sirius B.\n"
     ]
    }
   ],
   "source": [
    "mS = 4.83\n",
    "xA = 1/10**(2 * (mA - mS)/5)\n",
    "xB = 10**(2 * (mB - mS)/5)\n",
    "print(f'Sirius A is {xA:0.2f} times brighter than the sun.')\n",
    "print(f'The sun is is {xB:0.2f} times brighter than Sirius B.')"
   ]
  },
  {
   "cell_type": "raw",
   "id": "7bf9d3d8-9ba7-4b77-8b64-8d89264c006f",
   "metadata": {},
   "source": [
    "## The orbit of the binary system\n",
    "\n",
    "- The period of Sirius A (and B) around the centre of mass of the binary system was measured to be about $50$ years.\n",
    "- The semi-major axis of the elliptical orbit was found to be roughly $7.5''$. Therefore, its length is"
   ]
  },
  {
   "cell_type": "code",
   "execution_count": 12,
   "id": "a21d462e-8d39-4096-8828-b290f3a66980",
   "metadata": {},
   "outputs": [
    {
     "name": "stdout",
     "output_type": "stream",
     "text": [
      "The semi-major axis of the binary system is 19.74 AU.\n"
     ]
    }
   ],
   "source": [
    "theta_d = 7.5/3600\n",
    "theta_r = theta_d * np.pi/180\n",
    "a = distance_au * theta_r\n",
    "print(f'The semi-major axis of the binary system is {a:0.2f} AU.')"
   ]
  },
  {
   "cell_type": "raw",
   "id": "4b0f0885-4668-4429-b326-3e954bce01cf",
   "metadata": {},
   "source": [
    "- This information suffices to calculate the mass of the binary system.\n",
    "\n",
    "## In keeping with LAAG tradition\n",
    "\n",
    "- Kepler's third law for a binary system is\n",
    "$$\n",
    "T^2 = \\frac{4\\pi^2}{G(m_1 + m_2)}a^3.\n",
    "$$\n",
    "- We can calculate $m_1 + m_2$ using this equation."
   ]
  },
  {
   "cell_type": "code",
   "execution_count": 15,
   "id": "73a63645-b8d2-4b1a-a325-87003b1b8730",
   "metadata": {},
   "outputs": [
    {
     "name": "stdout",
     "output_type": "stream",
     "text": [
      "Mass of the Sirius binary system is 3.08 solar masses.\n"
     ]
    }
   ],
   "source": [
    "AU = 149597870700 # One astronomical unit in m.\n",
    "SO = 1.989e30 # One solar mass in kg.\n",
    "\n",
    "a_m = a * AU # Semi-major axis in metres.\n",
    "T_s = 50 * 3.154e7 # Period in seconds.\n",
    "sum_of_masses_kg = 4 * np.pi**2 * a_m**3/(sc.G * T_s**2)\n",
    "sum_of_masses_sm = sum_of_masses_kg/SO\n",
    "print(f'Mass of the Sirius binary system is {sum_of_masses_sm:0.2f} solar masses.')"
   ]
  },
  {
   "cell_type": "raw",
   "id": "164ac067-6894-4101-8e28-789ee81eb3f0",
   "metadata": {},
   "source": [
    "- Otto Struve measured the angular separation between Sirius A and B to be thrice the separation between the centre of mass and Sirius A.\n",
    "- Sirius A is therefore twice as massive as Sirius B.\n",
    "\n",
    "## A different kind of a star\n",
    "- We now use the mass-luminosity relation to calculate the mass of the two stars. For a main-sequence star, it is\n",
    "$$\n",
    "\\frac{L}{L_\\odot} = \\left(\\frac{M}{M_\\odot}\\right)^{4}.\n",
    "$$\n",
    "for stars of masses between $0.43$ and $2\\;M\\odot$.\n",
    "- We calculated the ratio on the left hand side to be $22.91$. Therefore,"
   ]
  },
  {
   "cell_type": "code",
   "execution_count": 25,
   "id": "659a7cfc-e8ac-41d3-be2b-f07f0e8ed105",
   "metadata": {},
   "outputs": [
    {
     "name": "stdout",
     "output_type": "stream",
     "text": [
      "The mass of Sirius A is 2.19 times that of the sun.\n",
      "Therefore mass of Sirius B is 0.89 times that of the sun.\n"
     ]
    }
   ],
   "source": [
    "print(f'The mass of Sirius A is {xA**(1/4):0.2f} times that of the sun.')\n",
    "print(f'Therefore mass of Sirius B is {sum_of_masses_sm - xA**(1/4):0.2f} times that of the sun.')"
   ]
  },
  {
   "cell_type": "raw",
   "id": "6fae5a42-b092-4b63-bb07-1a80c64ea584",
   "metadata": {},
   "source": [
    "- These are crude calculations. More accurate ones give the mass of Sirius B to be roughly $1\\;M_\\odot$ and that of Sirius A to to $2\\;M_\\odot$.\n",
    "- Why is a star as massive as the sun almost $350$ times dimmer?"
   ]
  },
  {
   "cell_type": "raw",
   "id": "6b31c96a-465f-4793-917f-b4e646e8d91f",
   "metadata": {},
   "source": [
    "## The curious case of 40 Eridani B\n",
    "\n",
    "- [40 Eridani](https://en.wikipedia.org/wiki/40_Eridani#Properties) is a system of triple stars.\n",
    "- Of these, the prominent member is of spectral type K, a red dwarf.\n",
    "- Williamina Flemming classified 40 Eridani B in spectral class A - a much hotter star.\n",
    "- The mass of 40 Eridani B was found to be approximately 45% of that of the sun (spectral class G). It is much smaller than the sun and yet is much hotter.\n",
    "- Around the same time, people studied the spectrum of Sirius B and found it to be composed mostly of hydrogen lines, that is spectral class A."
   ]
  },
  {
   "cell_type": "raw",
   "id": "e155ea78-dcbf-4b9a-9982-f7ce99bd2d63",
   "metadata": {},
   "source": [
    "## How big are these stars?\n",
    "\n",
    "- Stepfan-Boltzman law states that radiant emittance (radiant power per unit area) is proportional to the fourth power of absolute temperature. The constant of proportionality is called the _Stefan-Boltzmann constant_, $\\sigma$.\n",
    "- A sphere of radius $r$ thus emits $4\\pi r^2 \\sigma T^4$. But this is just the luminosity.\n",
    "- We calculated that the luminosity of Sirius A is $7943.28$ times more than that of Sirius B. But they belong to the same spectral class, that is, they have the same temperature. If $L_A$ and $L_B$ are the luminosities of Sirius A and B, $r_A$ and $r_B$ their radii, $T_A$ and $T_B$ their temperatures then\n",
    "$$\n",
    "\\begin{eqnarray}\n",
    "L_A &=& 4\\pi r_A^2 \\sigma T_A^4 \\\\\n",
    "L_B &=& 4\\pi r_B^2 \\sigma T_B^4.\n",
    "\\end{eqnarray}\n",
    "$$\n",
    "If $T_A = T_B$ and $L_A = 7943.28 L_B$ then \n",
    "$$\n",
    "\\frac{r_A}{r_B} = \\sqrt{\\frac{L_A}{L_B}} \\approx 89.\n",
    "$$\n",
    "Thus, Sirius B was a hundred times tinier than Sirius B, although both were equally hot.\n",
    "- William Luyten called such stars _white dwarfs_. He discovered a large number of them in his seven decades long career."
   ]
  },
  {
   "cell_type": "raw",
   "id": "0bc38042-580f-4923-93ca-c1f40122fcbe",
   "metadata": {},
   "source": [
    "## Quantum stars\n",
    "\n",
    "- At the temperature of a white dwarf matter is fully ionised.\n",
    "- If there is no more energy production, the matter will cool and will return to state of neutral atoms. \n",
    "- But this means that the density of the matter must drop by $5$ orders of magnitude, that is, the star's volume will have to rise by $5$ orders of magnitude.\n",
    "- If the star must expand, it must do work against gravity. Who will supply the energy for this endeavour?\n",
    "- The star continues to radiate and lose energy and yet cannot expand. It is \"a body continually losing heat but having insufficient energy to grow cold\", complained Eddington.\n",
    "- Eddington's concern cannot be addressed by classical physics.\n",
    "- R. H. Fowler resolved the paradox within three months of the paper announcing _Fermi-Dirac Statistics_."
   ]
  }
 ],
 "metadata": {
  "kernelspec": {
   "display_name": "Python 3 (ipykernel)",
   "language": "python",
   "name": "python3"
  },
  "language_info": {
   "codemirror_mode": {
    "name": "ipython",
    "version": 3
   },
   "file_extension": ".py",
   "mimetype": "text/x-python",
   "name": "python",
   "nbconvert_exporter": "python",
   "pygments_lexer": "ipython3",
   "version": "3.13.1"
  }
 },
 "nbformat": 4,
 "nbformat_minor": 5
}
