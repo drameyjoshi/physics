{
  "nbformat": 4,
  "nbformat_minor": 0,
  "metadata": {
    "colab": {
      "provenance": [],
      "authorship_tag": "ABX9TyMDviRAsmDLW1Nu9pENALqb",
      "include_colab_link": true
    },
    "kernelspec": {
      "name": "python3",
      "display_name": "Python 3"
    },
    "language_info": {
      "name": "python"
    }
  },
  "cells": [
    {
      "cell_type": "markdown",
      "metadata": {
        "id": "view-in-github",
        "colab_type": "text"
      },
      "source": [
        "<a href=\"https://colab.research.google.com/github/drameyjoshi/physics/blob/main/astro/keeton/Chapter_1.ipynb\" target=\"_parent\"><img src=\"https://colab.research.google.com/assets/colab-badge.svg\" alt=\"Open In Colab\"/></a>"
      ]
    },
    {
      "cell_type": "code",
      "execution_count": 3,
      "metadata": {
        "id": "VVZpaXOpkGLN"
      },
      "outputs": [],
      "source": [
        "import numpy as np\n",
        "from scipy import constants as sc"
      ]
    },
    {
      "cell_type": "markdown",
      "source": [
        "# Problem 1\n",
        "\n",
        "The dimensions of $G$ are $[M^{-1} L^3 T^{-1}]$ so that dimensions of $GM/R$ are $[L^2 T^{-2}]$, which are also the dimensions of speed. Therefore, we have\n",
        "$$\n",
        "v \\sim \\sqrt{\\frac{GM}{R}}.\n",
        "$$"
      ],
      "metadata": {
        "id": "YrRYkpKvkazy"
      }
    },
    {
      "cell_type": "markdown",
      "source": [
        "## Part a\n",
        "Here the relevant quantities are mass of the sun and the radius of the earth's orbit."
      ],
      "metadata": {
        "id": "WYLhg5PunZPq"
      }
    },
    {
      "cell_type": "code",
      "source": [
        "R = 1.496e11 # Radius of earth's orbit in m\n",
        "M_sun = 1.99e30 # Mass of sun in kg\n",
        "v_e = np.sqrt(M_sun * sc.G/R)\n",
        "print(f'An estimate of the speed of earth is {v_e:.3e} m/s.')"
      ],
      "metadata": {
        "colab": {
          "base_uri": "https://localhost:8080/"
        },
        "id": "f27b_4q0lQgz",
        "outputId": "08f11ab0-20ac-4f2f-df94-9e9788d27baa"
      },
      "execution_count": 4,
      "outputs": [
        {
          "output_type": "stream",
          "name": "stdout",
          "text": [
            "An estimate of the speed of earth is 2.980e+04 m/s.\n"
          ]
        }
      ]
    },
    {
      "cell_type": "markdown",
      "source": [
        "## Part b\n",
        "We assume that each star is roughly like the sun so that the globular cluster contains a millon solar masses."
      ],
      "metadata": {
        "id": "bRReJCIrnn_S"
      }
    },
    {
      "cell_type": "code",
      "source": [
        "M = 1e6 * M_sun\n",
        "v = 1e4 # m/s\n",
        "R_gc = sc.G * M/v**2\n",
        "print(f'An estimate of the size of a globular cluster is {R_gc:.3e} m.')\n",
        "\n",
        "ly = sc.c * 365 * 24 * 60 * 60 # One light year.\n",
        "print(f'An estimate of the size of a globular cluster is {R_gc/ly:.3e} light years.')"
      ],
      "metadata": {
        "colab": {
          "base_uri": "https://localhost:8080/"
        },
        "id": "w9PFZZz8n2pL",
        "outputId": "3656197b-ab1f-4fca-e50c-51b5a77b5d5b"
      },
      "execution_count": 5,
      "outputs": [
        {
          "output_type": "stream",
          "name": "stdout",
          "text": [
            "An estimate of the size of a globular cluster is 1.328e+18 m.\n",
            "An estimate of the size of a globular cluster is 1.405e+02 light years.\n"
          ]
        }
      ]
    },
    {
      "cell_type": "markdown",
      "source": [
        "[Wikipedia](https://en.wikipedia.org/wiki/Globular_cluster) says it is in the range of 10 to 300 light years."
      ],
      "metadata": {
        "id": "fpv25WkkonTV"
      }
    },
    {
      "cell_type": "markdown",
      "source": [
        "## Part c\n"
      ],
      "metadata": {
        "id": "6k-yuOy_ovfv"
      }
    },
    {
      "cell_type": "code",
      "source": [
        "R_sg_kpc = 10 # Radius in kilo parsec\n",
        "R_sg_m = R_sg_kpc * 1e3 * 3.086 * 1e16 # Radius in m\n",
        "v = 2e5 # speed in m/s\n",
        "M_sg = R_sg_m * v**2/sc.G\n",
        "\n",
        "print(f'An estimate of the mass of a spiral galaxy is {M_sg:.3e} kg.')\n",
        "M_sg_sm = M_sg/M_sun\n",
        "print(f'An estimate of the mass of a spiral galaxy is {M_sg_sm:.3e} solar mass.')"
      ],
      "metadata": {
        "colab": {
          "base_uri": "https://localhost:8080/"
        },
        "id": "myW7PRG4o6Wq",
        "outputId": "2289007b-ef2f-4766-82ce-f6b9c341c161"
      },
      "execution_count": 6,
      "outputs": [
        {
          "output_type": "stream",
          "name": "stdout",
          "text": [
            "An estimate of the mass of a spiral galaxy is 1.849e+41 kg.\n",
            "An estimate of the mass of a spiral galaxy is 9.294e+10 solar mass.\n"
          ]
        }
      ]
    },
    {
      "cell_type": "markdown",
      "source": [
        "[NASA](https://science.nasa.gov/missions/hubble/what-does-the-milky-way-weigh-hubble-and-gaia-investigate/) reports that the Milky way is roughly a trillion solar masses. Our estimate is off by two orders of magnitude."
      ],
      "metadata": {
        "id": "oEzrWcq2p0sT"
      }
    },
    {
      "cell_type": "code",
      "source": [],
      "metadata": {
        "id": "bPUNKkB_p0U3"
      },
      "execution_count": 6,
      "outputs": []
    },
    {
      "cell_type": "markdown",
      "source": [
        "# Problem 2\n",
        "\n",
        "The gravitational binding energy will depend on the mass of the body, its radius and the expression will contain $G$.\n",
        "\n",
        "The dimensions of energy are $[M L^2 T^{-2}]$. An appropriate combination of the relevant quantities gives\n",
        "$$\n",
        "E \\sim \\frac{GM^2}{R}.\n",
        "$$\n"
      ],
      "metadata": {
        "id": "4VfxYfRrqOl4"
      }
    },
    {
      "cell_type": "markdown",
      "source": [
        "## Part a"
      ],
      "metadata": {
        "id": "vg_Eb8hnrEYG"
      }
    },
    {
      "cell_type": "code",
      "source": [
        "M_wd = 1.4 * M_sun # Mass of white dwarf\n",
        "R_wd = 5e6 # Radius in m\n",
        "E_wd = sc.G * M_wd**2/R_wd\n",
        "print(f'An estimate of the graviational binding energy of a white dwarf is {E_wd:.3e} J.')"
      ],
      "metadata": {
        "colab": {
          "base_uri": "https://localhost:8080/"
        },
        "id": "z3dnh2hwrGPX",
        "outputId": "98ee71ac-fa78-4ad3-bf38-8feefe1afe86"
      },
      "execution_count": 7,
      "outputs": [
        {
          "output_type": "stream",
          "name": "stdout",
          "text": [
            "An estimate of the graviational binding energy of a white dwarf is 1.036e+44 J.\n"
          ]
        }
      ]
    },
    {
      "cell_type": "markdown",
      "source": [
        "## Part b"
      ],
      "metadata": {
        "id": "S_SQxMnurgmX"
      }
    },
    {
      "cell_type": "code",
      "source": [
        "m_eq = E_wd/sc.c**2\n",
        "print(f'Mass equivalent to the gravitational binding energy is {m_eq:.3e} kg.')"
      ],
      "metadata": {
        "colab": {
          "base_uri": "https://localhost:8080/"
        },
        "id": "HnWZlmF7riLJ",
        "outputId": "94287f55-4eee-4ba1-fbf9-f943dc67348b"
      },
      "execution_count": 8,
      "outputs": [
        {
          "output_type": "stream",
          "name": "stdout",
          "text": [
            "Mass equivalent to the gravitational binding energy is 1.153e+27 kg.\n"
          ]
        }
      ]
    },
    {
      "cell_type": "markdown",
      "source": [
        "# Problem 3\n",
        "The dimensions of energy are $E \\sim [M L^2 T^{-2}]$, those of mass density as $\\rho \\sim [ML^{-3}]$. A dimensionally correct combination of $\\rho, R, t$ to form $E$ is\n",
        "$$\n",
        "E \\sim \\frac{\\rho R^5}{t^2}.\n",
        "$$"
      ],
      "metadata": {
        "id": "vyxTiwPhsCwA"
      }
    },
    {
      "cell_type": "markdown",
      "source": [
        "## Part b"
      ],
      "metadata": {
        "id": "s9F6QyJzsrR6"
      }
    },
    {
      "cell_type": "code",
      "source": [
        "R_w = 100 # Radius of blast wave in m.\n",
        "t = 0.02 # Time in s\n",
        "rho_air = 1.29 # Density of air in kg/m^3.\n",
        "\n",
        "E = rho_air * R_w**5/t**2\n",
        "print(f'An estimate of the energy of the blast wave is {E:.3e} J.')"
      ],
      "metadata": {
        "colab": {
          "base_uri": "https://localhost:8080/"
        },
        "id": "ak3j0daXtRYr",
        "outputId": "1a8eda70-e770-4456-c067-80822693025b"
      },
      "execution_count": 9,
      "outputs": [
        {
          "output_type": "stream",
          "name": "stdout",
          "text": [
            "An estimate of the energy of the blast wave is 3.225e+13 J.\n"
          ]
        }
      ]
    },
    {
      "cell_type": "markdown",
      "source": [
        "## Part c"
      ],
      "metadata": {
        "id": "BwSQ0noZtcQ6"
      }
    },
    {
      "cell_type": "code",
      "source": [
        "t = 1000 * 356 * 24 * 3600 # 1000 years in seconds\n",
        "E = 1e44 # Energy of supernova explosion\n",
        "rho_mp = 1e6 * sc.m_p # Density of the remnants.\n",
        "\n",
        "R = (E * t**2/rho_mp)**(1/5)\n",
        "print(f'An estimate of the size of the supernova remnant after 1000 years is {R:.3e} m')"
      ],
      "metadata": {
        "colab": {
          "base_uri": "https://localhost:8080/"
        },
        "id": "hbGH4K64teC8",
        "outputId": "5d83fbee-016b-45a8-fdcb-fc5d9c5f298b"
      },
      "execution_count": 10,
      "outputs": [
        {
          "output_type": "stream",
          "name": "stdout",
          "text": [
            "An estimate of the size of the supernova remnant after 1000 years is 1.414e+17 m\n"
          ]
        }
      ]
    },
    {
      "cell_type": "markdown",
      "source": [
        "# Problem 4\n",
        "Dimensional analysis gives\n",
        "$$\n",
        "\\rho \\sim \\frac{1}{Gt^2}.\n",
        "$$"
      ],
      "metadata": {
        "id": "wc8g85l9uIMh"
      }
    },
    {
      "cell_type": "code",
      "source": [
        "age_uni = 14e9 * 356 * 24 * 3600 # Age of universe in s.\n",
        "rho_uni = 1/(sc.G*age_uni**2)\n",
        "m_h = sc.m_p + sc.m_e\n",
        "\n",
        "nrho_uni = rho_uni/m_h\n",
        "print(f'An estimate of the number density of H atoms in the universe is {nrho_uni:.3e} per m^3.')"
      ],
      "metadata": {
        "colab": {
          "base_uri": "https://localhost:8080/"
        },
        "id": "_d50WQN4uW1X",
        "outputId": "8d1a7c58-7025-4897-9bbc-86dfd264006a"
      },
      "execution_count": 11,
      "outputs": [
        {
          "output_type": "stream",
          "name": "stdout",
          "text": [
            "An estimate of the number density of H atoms in the universe is 4.828e+01 per m^3.\n"
          ]
        }
      ]
    },
    {
      "cell_type": "markdown",
      "source": [
        "# Problem 5\n",
        "\n",
        "An estimate of energy in terms of temperature is $k_BT$. The speed of particles of mass $m$ in terms of temperature is\n",
        "$$\n",
        "v = \\sqrt{\\frac{2mk_BT}{m}}.\n",
        "$$"
      ],
      "metadata": {
        "id": "UJXQ2xipu78R"
      }
    },
    {
      "cell_type": "code",
      "source": [],
      "metadata": {
        "id": "bHMO_IBOvfr_"
      },
      "execution_count": 11,
      "outputs": []
    },
    {
      "cell_type": "markdown",
      "source": [
        "## Part b"
      ],
      "metadata": {
        "id": "IUyqxbavvgIY"
      }
    },
    {
      "cell_type": "code",
      "source": [
        "T_sun = 2e7 # Temperature of the sun's core.\n",
        "v_p = np.sqrt(2 * sc.k * T_sun/sc.m_p)/sc.c\n",
        "v_e = np.sqrt(2 * sc.k * T_sun/sc.m_e)/sc.c\n",
        "\n",
        "print(f'In terms of c:')\n",
        "print(f'An estimate of the speed of protons is {v_p:.3e}.')\n",
        "print(f'An estimate of the speed of electrons is {v_e:.3e}.')"
      ],
      "metadata": {
        "colab": {
          "base_uri": "https://localhost:8080/"
        },
        "id": "r31JLuL6viAK",
        "outputId": "96f35273-dfac-4fe6-b567-bb03911fc667"
      },
      "execution_count": 12,
      "outputs": [
        {
          "output_type": "stream",
          "name": "stdout",
          "text": [
            "In terms of c:\n",
            "An estimate of the speed of protons is 1.917e-03.\n",
            "An estimate of the speed of electrons is 8.213e-02.\n"
          ]
        }
      ]
    },
    {
      "cell_type": "markdown",
      "source": [
        "Both are moving at non-relativistic speeds."
      ],
      "metadata": {
        "id": "-FdwDIHhwIxl"
      }
    },
    {
      "cell_type": "markdown",
      "source": [
        "## Part c\n",
        "At relativistic speeds, $mc^2 \\sim k_BT$ so that at a temperature $T \\sim mc^2/k_B$, the particles must be treated relativistically."
      ],
      "metadata": {
        "id": "Ws4gYJ6fwTSI"
      }
    },
    {
      "cell_type": "code",
      "source": [
        "masses = [sc.m_e, sc.m_p]\n",
        "names = ['electron', 'proton']\n",
        "def get_temp(m: float):\n",
        "    return m * sc.c**2/sc.k\n",
        "\n",
        "_= [print(f'Temperature at which {n} becomes relativistic is {get_temp(masses[i]):.3e} K') for i, n in enumerate(names)]"
      ],
      "metadata": {
        "colab": {
          "base_uri": "https://localhost:8080/"
        },
        "id": "oc0EN1rFvr8f",
        "outputId": "56145b4b-e08d-4693-8ee3-e7472c610bd4"
      },
      "execution_count": 13,
      "outputs": [
        {
          "output_type": "stream",
          "name": "stdout",
          "text": [
            "Temperature at which electron becomes relativistic is 5.930e+09 K\n",
            "Temperature at which proton becomes relativistic is 1.089e+13 K\n"
          ]
        }
      ]
    },
    {
      "cell_type": "markdown",
      "source": [
        "# Problem 6\n",
        "\n",
        "The dimensions of luminosity are $L \\sim [M L^2 T^{-3}]$, that of pressure are $P \\sim [M L^{-1} T^{-2}]$. If $d$ is the distance and $c$ the speed of light in vacuum then dimensional analysis gives,\n",
        "$$\n",
        "L \\sim P d^2 c\n",
        "$$\n",
        "or\n",
        "$$\n",
        "P \\sim \\frac{L}{d^2c}.\n",
        "$$"
      ],
      "metadata": {
        "id": "njIfC_8-xkTY"
      }
    },
    {
      "cell_type": "markdown",
      "source": [
        "## Part b"
      ],
      "metadata": {
        "id": "wFXzQEPOzqjc"
      }
    },
    {
      "cell_type": "code",
      "source": [
        "d = R # 1 AU, that is, 1.496e11 # Radius of earth's orbit in m\n",
        "L_sun = 3.846e26 # Solar luminosity in W.\n",
        "\n",
        "P = L_sun/(d**2 * sc.c)\n",
        "F = P * 1e6 # Force on a sail of area 1 sq km.\n",
        "\n",
        "print(f'An estimate of the force on the sail is {F:0.3e} N.')"
      ],
      "metadata": {
        "colab": {
          "base_uri": "https://localhost:8080/"
        },
        "id": "MYV4AfEKy7yD",
        "outputId": "9cec476d-eb33-438e-c9d3-811fb6fc32b2"
      },
      "execution_count": 14,
      "outputs": [
        {
          "output_type": "stream",
          "name": "stdout",
          "text": [
            "An estimate of the force on the sail is 6.415e-11 N.\n"
          ]
        }
      ]
    },
    {
      "cell_type": "markdown",
      "source": [
        "## Part c\n",
        "\n",
        "If the space craft starts from rest and is continually accelerated at $a$ then it covers a distance $s = at^2/2$ in time $t$. If $M$ is the mass of the space-craft then $a = F/M$, where $F$ is the force calculates above."
      ],
      "metadata": {
        "id": "Fhjz0YiLzuj5"
      }
    },
    {
      "cell_type": "code",
      "source": [
        "s_jup = 5.2 * d # 5.2 AU\n",
        "a = F/1e4 # Accelaration due to solar radiation pressure.\n",
        "t_jup = np.sqrt(2 * s_jup/a)\n",
        "t_jup_yr = t_jup/(365 * 24 * 60 * 60)\n",
        "\n",
        "print(f'An estimate of the time taken to reach jupiter is {t_jup_yr:.3e} years.')"
      ],
      "metadata": {
        "colab": {
          "base_uri": "https://localhost:8080/"
        },
        "id": "Juo3Wiskzpxm",
        "outputId": "3e83c05b-5516-4d6e-ef9f-2f02124e1096"
      },
      "execution_count": 15,
      "outputs": [
        {
          "output_type": "stream",
          "name": "stdout",
          "text": [
            "An estimate of the time taken to reach jupiter is 4.801e+08 years.\n"
          ]
        }
      ]
    }
  ]
}