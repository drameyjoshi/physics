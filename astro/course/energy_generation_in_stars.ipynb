{
  "nbformat": 4,
  "nbformat_minor": 0,
  "metadata": {
    "colab": {
      "provenance": [],
      "authorship_tag": "ABX9TyMbG4fzh7CRQqf2OpS4e/m1",
      "include_colab_link": true
    },
    "kernelspec": {
      "name": "python3",
      "display_name": "Python 3"
    },
    "language_info": {
      "name": "python"
    }
  },
  "cells": [
    {
      "cell_type": "markdown",
      "metadata": {
        "id": "view-in-github",
        "colab_type": "text"
      },
      "source": [
        "<a href=\"https://colab.research.google.com/github/drameyjoshi/physics/blob/main/astro/course/energy_generation_in_stars.ipynb\" target=\"_parent\"><img src=\"https://colab.research.google.com/assets/colab-badge.svg\" alt=\"Open In Colab\"/></a>"
      ]
    },
    {
      "cell_type": "code",
      "source": [
        "import astropy.constants\n",
        "import astropy.units\n",
        "import scipy\n",
        "import numpy"
      ],
      "metadata": {
        "id": "OETPvKkKIXeY"
      },
      "execution_count": 18,
      "outputs": []
    },
    {
      "cell_type": "markdown",
      "source": [
        "# Negative specific heat of self-gravitating bodies\n",
        "\n",
        "Specific heat of a material is the amount of heat needed to increase the temperature of a unit mass of the material by $1$ K. Usually one must indicate which parameters are kept constant when the temperature is raised. In the most common situations of a fluid one tells whether the volume or the pressure of the fluid is kept constant.\n",
        "\n",
        "Negative specific heat means that one has to remove energy from the system in order to increase its temperature. Since temperature is proportional to kinetic energy, this means that if one removes energy the kinetic energy increases. This surely happens in the case of a mass in Kepler orbit. If we reduce its energy it is drawn closer to the sun and that pushes up its orbital speed.\n",
        "\n",
        "Mathematically it is a consequence of the virial theorem. The relation between average kinetic and potential energies is\n",
        "\\begin{equation}\\tag{1}\n",
        "U = -\\frac{1}{2}K = -\\frac{1}{2}\\frac{3}{2}Nk_BT,\n",
        "\\end{equation}\n",
        "where $N$ is the number of molecules in the gas. Clearly,\n",
        "\\begin{equation}\\tag{2}\n",
        "\\frac{dU}{dT} = -\\frac{3}{4}Nk_B.\n",
        "\\end{equation}"
      ],
      "metadata": {
        "id": "GKjO0h7mGIKw"
      }
    },
    {
      "cell_type": "code",
      "execution_count": 24,
      "metadata": {
        "colab": {
          "base_uri": "https://localhost:8080/"
        },
        "id": "tfvf1JkdGDwo",
        "outputId": "4fedb872-16f1-4646-ec8f-934e09688697"
      },
      "outputs": [
        {
          "output_type": "stream",
          "name": "stdout",
          "text": [
            "The sun will shine for 10190.060800400972 yr years.\n"
          ]
        }
      ],
      "source": [
        "luminosity = astropy.constants.L_sun\n",
        "solar_mass = astropy.constants.M_sun\n",
        "H_mass = astropy.constants.m_p\n",
        "N = solar_mass/H_mass # number of particles\n",
        "T = 1E4 * astropy.units.K # Average temperature in K.\n",
        "U = -3 * N * astropy.constants.k_B * T/4 # thermal energy of the sun\n",
        "\n",
        "will_last_for_s = numpy.abs(U)/luminosity\n",
        "will_last_for_yr = will_last_for_s.to(\"yr\")\n",
        "print(f\"The sun will shine for {will_last_for_yr} years assuming only thermal energy.\")"
      ]
    },
    {
      "cell_type": "code",
      "source": [
        "energy_per_fusion = 0.007 * astropy.constants.m_p * astropy.constants.c**2\n",
        "energy_per_fusion_J = energy_per_fusion.value * astropy.units.J\n",
        "n_fusions = luminosity/energy_per_fusion_J\n",
        "\n",
        "print(f\"{n_fusions} atoms must fuse per second to support solar luminosoty.\")"
      ],
      "metadata": {
        "colab": {
          "base_uri": "https://localhost:8080/"
        },
        "id": "yqBaVdfLKGZz",
        "outputId": "a1a6ffed-921e-40f1-938b-ee2f23c3059d"
      },
      "execution_count": 28,
      "outputs": [
        {
          "output_type": "stream",
          "name": "stdout",
          "text": [
            "3.63776548684108e+38 W / J atoms must fuse per second to support solar luminosoty.\n"
          ]
        }
      ]
    },
    {
      "cell_type": "markdown",
      "source": [
        "Note that W/J is indeed seconds."
      ],
      "metadata": {
        "id": "J3vhJM1TPWxU"
      }
    },
    {
      "cell_type": "code",
      "source": [
        "r = 1e-15 * astropy.units.m # Nuclear radius.\n",
        "coulomb_energy = astropy.constants.e.si**2/(4*scipy.pi*astropy.constants.eps0*r)"
      ],
      "metadata": {
        "id": "9zo34SbVPvDv"
      },
      "execution_count": 33,
      "outputs": []
    },
    {
      "cell_type": "code",
      "source": [
        "temp_needed = 2 * coulomb_energy/(3 * astropy.constants.k_B)\n",
        "print(f\"Temperature needed for fusion is {temp_needed}.\")"
      ],
      "metadata": {
        "colab": {
          "base_uri": "https://localhost:8080/"
        },
        "id": "Y_atSA7vQaue",
        "outputId": "f3ea55ad-79ae-486f-9765-dcef86cae290"
      },
      "execution_count": 35,
      "outputs": [
        {
          "output_type": "stream",
          "name": "stdout",
          "text": [
            "Temperature needed for fusion is 11140063126.55249 C2 K / (F J).\n"
          ]
        }
      ]
    },
    {
      "cell_type": "markdown",
      "source": [
        "Thus, classically one does not expect the protons to fuse together and form He nucleus in the sun. One needs to take recourse to quantum mechanical tunneling to explain it."
      ],
      "metadata": {
        "id": "btcP8nL2RcCO"
      }
    }
  ]
}