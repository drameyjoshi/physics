{
  "nbformat": 4,
  "nbformat_minor": 0,
  "metadata": {
    "colab": {
      "provenance": [],
      "authorship_tag": "ABX9TyP2YXmiPvWgLe3AKMxmSR+5",
      "include_colab_link": true
    },
    "kernelspec": {
      "name": "python3",
      "display_name": "Python 3"
    },
    "language_info": {
      "name": "python"
    }
  },
  "cells": [
    {
      "cell_type": "markdown",
      "metadata": {
        "id": "view-in-github",
        "colab_type": "text"
      },
      "source": [
        "<a href=\"https://colab.research.google.com/github/drameyjoshi/physics/blob/main/astro/keeton/Chapter_2.ipynb\" target=\"_parent\"><img src=\"https://colab.research.google.com/assets/colab-badge.svg\" alt=\"Open In Colab\"/></a>"
      ]
    },
    {
      "cell_type": "markdown",
      "source": [
        "# Problem 1\n",
        "\n",
        "The tangential speed at the \"top\" of the epicycle is $a\\omega + R\\Omega$ while that at the \"bottom\" is $-a\\omega + R\\Omega$. Therefore, if $a\\omega > R\\Omega$ then the tangential speed at the \"bottom\" will be negative and the body will appear to be in retrograde motion."
      ],
      "metadata": {
        "id": "4JlkugE5o0nj"
      }
    },
    {
      "cell_type": "markdown",
      "source": [
        "# Problem 2\n",
        "\n",
        "The time it takes for a planet to make one trip around the sun is called its sidereal period. The time it takes for the planet to be on the line joining the sun and the earth is called its synodic period. Let us assume that the planets move in circles around the sun. The angular displacement of the earth is given by\n",
        "$\\theta_E(t) = \\omega_E t,\\tag{1}$\n",
        "where $\\omega_E$ is the constant angular speed of the earth around the sun. Similarly, the angular displacement of Mars is given by\n",
        "$$\\theta_M(t) = \\omega_M t,\\tag{2}$$\n",
        "where $\\omega_M$ is the constant angular speed of Mars. The relative angular separation between the two is\n",
        "$$\\theta(t) = \\theta_E(t) - \\theta_M(t). \\tag{3}$$\n",
        "If $\\tau$ is the synodic period of Mars then at $t = \\tau$, $\\theta(\\tau) = 2\\pi$. Thus,\n",
        "$$2\\pi = \\theta_E(\\tau) - \\theta_M(\\tau). \\tag{4}$$\n",
        "</p>\n",
        "\n",
        "<p>If $T_E$ and $T_M$ are the sidereal periods of the earth and Mars then $\\omega_E = (2\\pi)/T_E$ and $\\omega_M = (2\\pi)/T_M$ so that from equation $\\eqref{e4}$ we get\n",
        "$$2\\pi = \\left(\\frac{2\\pi}{T_E} - \\frac{2\\pi}{T_M}\\right)\\tau$$\n",
        "or\n",
        "$$\\frac{1}{\\tau} = \\frac{1}{T_E} - \\frac{1}{T_M}.\\tag{5}$$</p>\n",
        "\n",
        "Mars' sidereal period is $T_M \\approx 687$ days and that of the earth is approximately $365$ days. Therefore, Mars' synodic period $\\tau$, calculated from \\eqref{e5} is approximately $779$ days. Let us start tracking Mars from the time Mars, earth and sun are along a straight line. By the time earth returns to this point 365 days later, Mars would have covered only $53\\%$ of its orbital motion. When the earth returns to this point again, Mars would have finished one cycle around the sun and close to $6\\%$ of its second cycle. But Mars synodic period is yet to get over. Around this period Mars will be in retrograde motion."
      ],
      "metadata": {
        "id": "1aMygi_opJOl"
      }
    },
    {
      "cell_type": "markdown",
      "source": [
        "# Problem 3\n",
        "\n",
        "Given that $\\vec{r} = vt\\hat{x} + b\\hat{y}$ so that the velocity is $\\vec{v} = v\\hat{x}$ and hence the specific angular momentum is\n",
        "$$\n",
        "\\vec{l} = \\vec{r} \\times \\vec{v} = -vb\\hat{x}.\n",
        "$$\n",
        "Clearly, the angular momentum is conserved.\n",
        "\n",
        "If a body is moving in a straight line then it has not net force acting on it. Neither does it experience a torque. Therefore, its angular momentum is conserved."
      ],
      "metadata": {
        "id": "YN8LRwuxq-Ul"
      }
    },
    {
      "cell_type": "markdown",
      "source": [
        "# Problem 4\n",
        "\n",
        "In the case of an elliptical, we calculate the angular momentum with respect to one of the foci. Since the angular momentum is conserved, if $r$ is small then $v$ is large and _vice versa_. Therefore, at the point closest to the focus, the body will move the fastest and will have the maximum kinetic energy. The opposite will be true for the farthest point.\n",
        "\n",
        "One can reach the same conclusion using the conversation of total energy."
      ],
      "metadata": {
        "id": "YVg6UceUryMc"
      }
    },
    {
      "cell_type": "code",
      "execution_count": null,
      "metadata": {
        "id": "IeQhsm4jopT7"
      },
      "outputs": [],
      "source": []
    }
  ]
}