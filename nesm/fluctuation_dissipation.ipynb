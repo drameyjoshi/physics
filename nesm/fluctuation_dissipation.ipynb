{
  "nbformat": 4,
  "nbformat_minor": 0,
  "metadata": {
    "colab": {
      "provenance": [],
      "authorship_tag": "ABX9TyOXmCtshxx4BbgDdymsjoXL",
      "include_colab_link": true
    },
    "kernelspec": {
      "name": "python3",
      "display_name": "Python 3"
    },
    "language_info": {
      "name": "python"
    }
  },
  "cells": [
    {
      "cell_type": "markdown",
      "metadata": {
        "id": "view-in-github",
        "colab_type": "text"
      },
      "source": [
        "<a href=\"https://colab.research.google.com/github/drameyjoshi/physics/blob/main/nesm/fluctuation_dissipation.ipynb\" target=\"_parent\"><img src=\"https://colab.research.google.com/assets/colab-badge.svg\" alt=\"Open In Colab\"/></a>"
      ]
    },
    {
      "cell_type": "markdown",
      "source": [
        "In section 3.2.2 of V. Balakrishnan's _Non-equilibrium Statistical Mechanics_ the author asks if dropping the assumption of white noise can allow us to set $\\gamma = 0$. He suggests that equation (3.10) should be replaced with\n",
        "\\begin{equation}\\tag{1}\n",
        "\\overline{\\eta(t_1)\\eta(t_2)} = K\\exp\\left(-\\frac{|t_1 - t_2|}{\\tau}\\right).\n",
        "\\end{equation}\n",
        "\n",
        "We will compute $\\overline{v^2(t)}$ with this form of the correlation function.\n",
        "From equation (3.8) of the book,\n",
        "\\begin{equation}\\tag{2}\n",
        "\\overline{v^2(t)} = v_0^2 e^{-2\\gamma t} + \\frac{1}{m^2}\\iint_0^{t} dt_1 dt_2 e^{-\\gamma(t - t_1) - \\gamma(t - t_2)}\\overline{\\eta(t_1)\\eta(t_2)}.\n",
        "\\end{equation}\n",
        "\n",
        "Substituting equation (1) in (2) we get\n",
        "\\begin{equation}\\tag{3}\n",
        "\\overline{v^2(t)} = v_0^2 e^{-2\\gamma t} + \\frac{K}{m^2}\\iint_0^{t} dt_1 dt_2 \\exp\\left(-\\gamma(t - t_1) - \\gamma(t - t_2)\\right)\\exp\\left(-\\frac{|t_1 - t_2|}{\\tau}\\right).\n",
        "\\end{equation}\n"
      ],
      "metadata": {
        "id": "YgGp5qD2z8jb"
      }
    },
    {
      "cell_type": "markdown",
      "source": [
        "We can split the double integral as\n",
        "\\begin{equation}\\tag{4}\n",
        "I = \\int_0^t dt_1 \\int_0^{t_1}dt_2 e^{-\\gamma(t - t_1) - \\gamma(t - t_2) - (t_2 - t_1)/\\tau} + \\int_0^t dt_2 \\int_0^{t_2}dt_1 e^{-\\gamma(t - t_1) - \\gamma(t - t_2) - (t_1 - t_2)/\\tau}\n",
        "\\end{equation}\n",
        "Let's call the first integral $I_1$ and the second one $I_2$. Let us also introduce the constants\n",
        "\\begin{eqnarray}\n",
        "\\gamma_+ &=& \\gamma + \\frac{1}{\\tau} \\tag{5} \\\\\n",
        "\\gamma_- &=& \\gamma - \\frac{1}{\\tau} \\tag{6}\n",
        "\\end{eqnarray}"
      ],
      "metadata": {
        "id": "X3soYsnB2lTv"
      }
    },
    {
      "cell_type": "markdown",
      "source": [
        "We will first evaluate $I_1$.\n",
        "\\begin{eqnarray}\n",
        "I_1 &=& e^{-2\\gamma t}\\int_0^t dt_1 e^{\\gamma_+ t_1}\\int_{t_1}^t dt_2 e^{\\gamma_- t_2} \\\\\n",
        "&=& e^{-2\\gamma t}\\int_0^t dt_1 e^{\\gamma_+ t_1}\\frac{e^{\\gamma_- t} - e^{\\gamma_- t_1}}{\\gamma_-} \\\\\n",
        "&=& \\frac{e^{(\\gamma_- - 2\\gamma)t}}{\\gamma_-}\\int_0^t dt_1 e^{\\gamma_+ t_1} - \\frac{e^{-2\\gamma t}}{\\gamma_-}\\int_0^t dt_1 e^{(\\gamma_+ + \\gamma_-)t_1} \\\\\n",
        "&=& \\frac{e^{(\\gamma_- - 2\\gamma)t}}{\\gamma_-}\\frac{e^{\\gamma_+ t} - 1}{\\gamma_+} - \\frac{e^{-2\\gamma t}}{\\gamma_-}\\frac{e^{(\\gamma_+ + \\gamma_-)t} - 1}{\\gamma_+ + \\gamma_-} \\tag{7}\n",
        "\\end{eqnarray}\n",
        "We can simplify some of the expressions using equations (5) and (6).\n",
        "\\begin{eqnarray}\n",
        "\\gamma_+ + \\gamma_1 &=& 2\\gamma  \\tag{8} \\\\\n",
        "\\gamma_- - 2\\gamma &=& -\\gamma_+ \\tag{9} \\\\\n",
        "\\gamma_- \\gamma_+ &=& \\gamma^2 - \\frac{1}{\\tau^2}  \\tag{10}\n",
        "\\end{eqnarray}\n",
        "Using (8) to (10) in (7) we get\n",
        "\\begin{equation}\\tag{11}\n",
        "I_1 = \\frac{1 - e^{-\\gamma_+ t}}{2\\gamma} - \\frac{1 - e^{-2\\gamma t}}{2\\gamma\\gamma_-} \n",
        "\\end{equation}"
      ],
      "metadata": {
        "id": "T6pEWgnO3lfO"
      }
    },
    {
      "cell_type": "markdown",
      "source": [
        "Next, let's evaluate $I_2$.\n",
        "\\begin{eqnarray}\n",
        "I_2 &=& e^{-2\\gamma t}\\int_0^t dt_2 e^{\\gamma_+ t_2}\\int_{t_2}^t dt_1 e^{\\gamma_- t_1} \\\\\n",
        "&=& e^{-2\\gamma t}\\int_0^t dt_2 e^{\\gamma_+ t_2}\\frac{e^{\\gamma_- t} - e^{\\gamma_- t_2}}{\\gamma_-} \\\\\n",
        "&=& \\frac{e^{(\\gamma_- - 2\\gamma)t}}{\\gamma_-}\\int_0^t dt_2 e^{\\gamma_+ t_2} - \\frac{e^{-2\\gamma t}}{\\gamma_-}\\int_0^t dt_2 e^{(\\gamma_+ + \\gamma_-)t_2} \\\\\n",
        "&=& \\frac{e^{(\\gamma_- - 2\\gamma)t}}{\\gamma_-}\\frac{e^{\\gamma_+ t} - 1}{\\gamma_+} - \\frac{e^{-2\\gamma t}}{\\gamma_-}\\frac{e^{(\\gamma_+ + \\gamma_-)t} - 1}{\\gamma_+ + \\gamma_-} \\tag{12}\n",
        "\\end{eqnarray}\n",
        "This is same as (7). Therefore,\n",
        "\\begin{equation}\\tag{13}\n",
        "I = \\frac{1 - e^{-\\gamma_+ t}}{\\gamma} - \\frac{1 - e^{-2\\gamma t}}{\\gamma\\gamma_-} \n",
        "\\end{equation}\n",
        "and hence equation (3) is\n",
        "\\begin{equation}\\tag{14}\n",
        "\\overline{v^2(t)} = v_0^2 e^{-2\\gamma t} + \\frac{K}{m^2}\\left(\\frac{1 - e^{-\\gamma_+ t}}{\\gamma} - \\frac{1 - e^{-2\\gamma t}}{\\gamma\\gamma_-}\\right)\n",
        "\\end{equation}"
      ],
      "metadata": {
        "id": "aZCEkT5W-bTz"
      }
    },
    {
      "cell_type": "markdown",
      "source": [
        "In the limit $t \\rightarrow \\infty$, we have\n",
        "\\begin{equation}\n",
        "\\lim_{t \\rightarrow \\infty}\\overline{v^2(t)} = \\frac{K}{\\gamma m^2}\\frac{\\gamma - 1 - 1/\\tau}{\\gamma - 1/\\tau},\n",
        "\\end{equation}\n",
        "which is a constant. Although $\\overline{v(t)} = v_0$ is an unphysical result $\\overline{v^2(t)}$ is not."
      ],
      "metadata": {
        "id": "vAQtPN0TBA3U"
      }
    }
  ]
}