{
  "nbformat": 4,
  "nbformat_minor": 0,
  "metadata": {
    "colab": {
      "provenance": [],
      "authorship_tag": "ABX9TyMzMxFeMPIjQuG2XtpvrpD4",
      "include_colab_link": true
    },
    "kernelspec": {
      "name": "python3",
      "display_name": "Python 3"
    },
    "language_info": {
      "name": "python"
    }
  },
  "cells": [
    {
      "cell_type": "markdown",
      "metadata": {
        "id": "view-in-github",
        "colab_type": "text"
      },
      "source": [
        "<a href=\"https://colab.research.google.com/github/drameyjoshi/physics/blob/main/astro/course/eddington_theory.ipynb\" target=\"_parent\"><img src=\"https://colab.research.google.com/assets/colab-badge.svg\" alt=\"Open In Colab\"/></a>"
      ]
    },
    {
      "cell_type": "markdown",
      "source": [
        "Flux is the energy incident per unit area per unit time. If $F$ is the flux on a surface of area $A$ then the momentum incident on it per unit time is $FA/c$. Consider a slab of thickness $dr$. Its volume is $Adr$ and its mass is $dm = \\rho Adr$. $\\kappa$ is the opacity of the material. Therefore, it absorbs an amount of energy $F \\kappa dm = F\\kappa\\rho Adr$. Momentum per unit time is the radiative force on the slab. Dividing it by the area gives radiation pressure $dp_r$. Thus,\n",
        "\\begin{equation}\\tag{1}\n",
        "dp_r = -\\frac{F\\kappa\\rho}{c} dr.\n",
        "\\end{equation}\n",
        "\n",
        "This analysis assumed that the radiation is incident normally on the surface. If it is not, assume that it makes an angle $\\theta$ with the normal to the slab. The momentum incident then is $F\\cos\\theta/c$. However, the thickness of the slab is traverses also changes to $dr\\sec\\theta$ so that the product of the two is independent of $\\theta$."
      ],
      "metadata": {
        "id": "42e3HVczANO0"
      }
    },
    {
      "cell_type": "markdown",
      "source": [
        "Now suppose that the star is in pure radiative equilibrium. The equation of hydrostatic equilibrium is\n",
        "\\begin{equation}\\tag{2}\n",
        "\\frac{dp}{dr} = -\\frac{GM\\rho}{r^2}.\n",
        "\\end{equation}\n",
        "How can one derive this equation? Consider cylindrical element of length $dr$ at a distance $r$ from the centre in the radial direction. Its mass is $dm = \\rho dv = \\rho dA dr$. The gravitational force on it is $dF = GM dm/r^2$ acting radially inwards. Therefore, the pressure on it is $dp = -GM\\rho dr/r^2$. The sign is chosen to indicate that $p$ drops as $r$ increases. (It will automatically come if we derive using vectors.)\n",
        "\n",
        "If a purely radiative equilibrium, we can use equation (1) to get\n",
        "\\begin{equation}\\tag{3}\n",
        "\\frac{F\\kappa\\rho}{c} = \\frac{GM\\rho}{r^2}.\n",
        "\\end{equation}\n",
        "\n",
        "The relation between flux and luminosity is\n",
        "\\begin{equation}\\tag{4}\n",
        "F = \\frac{L}{4\\pi r^2}.\n",
        "\\end{equation}\n",
        "\n",
        "From equations (3) and (4) we get\n",
        "\\begin{equation}\\tag{5}\n",
        "L = \\frac{4\\pi GMc}{\\kappa}.\n",
        "\\end{equation}\n",
        "\n",
        "The opacity $\\kappa$ is related to absorption coefficient by equation (23) in the [radiative transfer notebook](https://colab.research.google.com/drive/1VysDjo8uV9F-hTvrzKWUyD1HLMIsmPoW#scrollTo=0UmAYvfNpFyx) as $\\kappa\\rho = \\alpha$. The absorption coefficient $\\alpha$ is related to Thomson scattering cross section by\n",
        "\\begin{equation}\\tag{6}\n",
        "\\alpha = n\\sigma_{Th},\n",
        "\\end{equation}\n",
        "where $n$ is the number density of the scatterers. Thus, we have\n",
        "\\begin{equation}\\tag{7}\n",
        "\\kappa = \\frac{n}{\\rho}\\sigma_{Th} = \\frac{\\sigma_{Th}}{m_H},\n",
        "\\end{equation}\n",
        "where $m_H$ is the mass of Hydrogen atom. Substituting it in equation (5) we get\n",
        "\\begin{equation}\\tag{8}\n",
        "L = \\frac{4\\pi c GM m_H}{\\sigma_{Th}}.\n",
        "\\end{equation}\n",
        "\n",
        "This is the maximum luminosity a star can have if it is in radiative equilibrium. If it has more luminosity then the excess radiative pressure will blow apart the star. $L$ given by equation (8) is called _Eddington luminosity_."
      ],
      "metadata": {
        "id": "JSczRL_KIghR"
      }
    },
    {
      "cell_type": "markdown",
      "source": [],
      "metadata": {
        "id": "VqZ6U_HzOcf5"
      }
    },
    {
      "cell_type": "markdown",
      "source": [
        "# Equations of stellar structure.\n",
        "## Radiative equilibrium\n",
        "From equation (1) we have\n",
        "\\begin{equation}\\tag{9}\n",
        "F = -\\frac{c}{\\kappa\\rho}\\frac{dp_r}{dr}.\n",
        "\\end{equation}\n",
        "The radiation pressure is a related to temperature by\n",
        "\\begin{equation}\\tag{10}\n",
        "p_r = \\frac{1}{3}aT^4,\n",
        "\\end{equation}\n",
        "where $a$ is Stefan's constant. Therefore,\n",
        "\\begin{equation}\\tag{11}\n",
        "F = -\\frac{ca}{3\\kappa\\rho}\\frac{dT^4}{dr}.\n",
        "\\end{equation}\n",
        "From this equation, we readily get\n",
        "\\begin{equation}\\tag{12}\n",
        "L = -\\frac{4\\pi car^2}{3\\kappa\\rho}\\frac{dT^4}{dr}.\n",
        "\\end{equation}\n",
        "The key physics in equation (12) is that $L$ is a function of the temperature gradient if the star is in radiative equilibrium. If, for any reason, $L$ were to change then there will be an immediate adjustment of the temperature gradient.\n"
      ],
      "metadata": {
        "id": "16Nw3CR9MseC"
      }
    },
    {
      "cell_type": "markdown",
      "source": [
        "## Mass\n",
        "The mass of a spherical shell of thickness $dr$ is $dM = 4\\pi r^2 dr \\rho$, where $\\rho$ is the mass density. From this equation we get\n",
        "\\begin{equation}\\tag{13}\n",
        "\\frac{dM}{dr} = 4\\pi r^2\\rho(r).\n",
        "\\end{equation}"
      ],
      "metadata": {
        "id": "i3l0PkbGO2co"
      }
    },
    {
      "cell_type": "markdown",
      "source": [
        "## Thermal equilibrium\n",
        "Let $ɛ$ be the energy generated per unit mass per unit time. It depends on the local density, temperature and chemical composition. The luminosity through a sphere of radius $r$ is due to the energy generated in it and can be expressed as\n",
        "\\begin{equation}\\tag{14}\n",
        "L(r) = \\int_0^r ɛ ρ 4π s^2 ds\n",
        "\\end{equation}\n",
        "or,\n",
        "\\begin{equation}\\tag{15}\n",
        "\\frac{dL}{dr} = 4π r^2 ɛρ.\n",
        "\\end{equation}"
      ],
      "metadata": {
        "id": "poGgrCDOPotQ"
      }
    },
    {
      "cell_type": "markdown",
      "source": [
        "## Hydrostatic equilibrium\n",
        "\\begin{equation}\\tag{16}\n",
        "\\frac{dp}{dr} = -\\frac{4π Mρ}{r^2},\n",
        "\\end{equation}\n",
        "where $p$ is the sum of gas and radiation pressure.\n",
        "\n",
        "Equations (12), (13), (15) and (16) are the fundamental equations of stellar structure in Eddington's theory.\n"
      ],
      "metadata": {
        "id": "dPfxKGPyRMbq"
      }
    },
    {
      "cell_type": "markdown",
      "source": [
        "# Mass-luminosity relation\n",
        "\n",
        "Follows from scaling argument. From equation (4), we observe that\n",
        "\\begin{equation}\\tag{17}\n",
        "L ∼ \\frac{r^4T^4}{M}.\n",
        "\\end{equation}\n",
        "From equation (16) and the ideal gas law $p = \\rho RT$, we have $rT \\sim M$. Therefore,\n",
        "\\begin{equation}\\tag{18}\n",
        "L ∼ M^3.\n",
        "\\end{equation}"
      ],
      "metadata": {
        "id": "gfQpqcWYVNWO"
      }
    },
    {
      "cell_type": "code",
      "source": [],
      "metadata": {
        "id": "lSB8NcL2VfLo"
      },
      "execution_count": null,
      "outputs": []
    }
  ]
}