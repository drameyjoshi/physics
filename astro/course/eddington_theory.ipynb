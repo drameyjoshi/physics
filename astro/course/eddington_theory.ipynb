{
  "nbformat": 4,
  "nbformat_minor": 0,
  "metadata": {
    "colab": {
      "provenance": [],
      "authorship_tag": "ABX9TyMyj7otkkyQbeDfRyKzGemO",
      "include_colab_link": true
    },
    "kernelspec": {
      "name": "python3",
      "display_name": "Python 3"
    },
    "language_info": {
      "name": "python"
    }
  },
  "cells": [
    {
      "cell_type": "markdown",
      "metadata": {
        "id": "view-in-github",
        "colab_type": "text"
      },
      "source": [
        "<a href=\"https://colab.research.google.com/github/drameyjoshi/physics/blob/main/astro/course/eddington_theory.ipynb\" target=\"_parent\"><img src=\"https://colab.research.google.com/assets/colab-badge.svg\" alt=\"Open In Colab\"/></a>"
      ]
    },
    {
      "cell_type": "markdown",
      "source": [
        "Flux is the energy incident per unit area per unit time. If $F$ is the flux on a surface of area $A$ then the momentum incident on it per unit time is $FA/c$. Consider a slab of thickness $dr$. Its volume is $Adr$ and its mass is $dm = \\rho Adr$. $\\kappa$ is the opacity of the material. Therefore, it absorbs an amount of energy $F \\kappa dm = F\\kappa\\rho Adr$. Momentum per unit time is the radiative force on the slab. Dividing it by the area gives radiation pressure $dp_r$. Thus,\n",
        "\\begin{equation}\\tag{1}\n",
        "dp_r = -\\frac{F\\kappa\\rho}{c} dr.\n",
        "\\end{equation}\n",
        "\n",
        "This analysis assumed that the radiation is incident normally on the surface. If it is not, assume that it makes an angle $\\theta$ with the normal to the slab. The momentum incident then is $F\\cos\\theta/c$. However, the thickness of the slab is traverses also changes to $dr\\sec\\theta$ so that the product of the two is independent of $\\theta$."
      ],
      "metadata": {
        "id": "42e3HVczANO0"
      }
    },
    {
      "cell_type": "markdown",
      "source": [
        "Now suppose that the star is in pure radiative equilibrium. The equation of hydrostatic equilibrium is\n",
        "\\begin{equation}\\tag{2}\n",
        "\\frac{dp}{dr} = -\\frac{GM\\rho}{r^2}.\n",
        "\\end{equation}\n",
        "How can one derive this equation? Consider cylindrical element of length $dr$ at a distance $r$ from the centre in the radial direction. Its mass is $dm = \\rho dv = \\rho dA dr$. The gravitational force on it is $dF = GM dm/r^2$ acting radially inwards. Therefore, the pressure on it is $dp = -GM\\rho dr/r^2$. The sign is chosen to indicate that $p$ drops as $r$ increases. (It will automatically come if we derive using vectors.)\n",
        "\n",
        "If a purely radiative equilibrium, we can use equation (1) to get\n",
        "\\begin{equation}\\tag{3}\n",
        "\\frac{F\\kappa\\rho}{c} = \\frac{GM\\rho}{r^2}.\n",
        "\\end{equation}\n",
        "\n",
        "The relation between flux and luminosity is\n",
        "\\begin{equation}\\tag{4}\n",
        "F = \\frac{L}{4\\pi r^2}.\n",
        "\\end{equation}\n",
        "\n",
        "From equations (3) and (4) we get\n",
        "\\begin{equation}\\tag{5}\n",
        "L = \\frac{4\\pi GMc}{\\kappa}.\n",
        "\\end{equation}\n",
        "\n",
        "The opacity $\\kappa$ is related to absorption coefficient by equation (23) in the [radiative transfer notebook](https://colab.research.google.com/drive/1VysDjo8uV9F-hTvrzKWUyD1HLMIsmPoW#scrollTo=0UmAYvfNpFyx) as $\\kappa\\rho = \\alpha$. The absorption coefficient $\\alpha$ is related to Thomson scattering cross section by\n",
        "\\begin{equation}\\tag{6}\n",
        "\\alpha = n\\sigma_{Th},\n",
        "\\end{equation}\n",
        "where $n$ is the number density of the scatterers. Thus, we have\n",
        "\\begin{equation}\\tag{7}\n",
        "\\kappa = \\frac{n}{\\rho}\\sigma_{Th} = \\frac{\\sigma_{Th}}{m_H},\n",
        "\\end{equation}\n",
        "where $m_H$ is the mass of Hydrogen atom. Substituting it in equation (5) we get\n",
        "\\begin{equation}\\tag{8}\n",
        "L = \\frac{4\\pi c GM m_H}{\\sigma_{Th}}.\n",
        "\\end{equation}\n",
        "\n",
        "This is the maximum luminosity a star can have if it is in radiative equilibrium. If it has more luminosity then the excess radiative pressure will blow apart the star. $L$ given by equation (8) is called _Eddington luminosity_."
      ],
      "metadata": {
        "id": "JSczRL_KIghR"
      }
    },
    {
      "cell_type": "markdown",
      "source": [],
      "metadata": {
        "id": "VqZ6U_HzOcf5"
      }
    },
    {
      "cell_type": "code",
      "execution_count": null,
      "metadata": {
        "id": "nscX48BkAIt4"
      },
      "outputs": [],
      "source": []
    }
  ]
}